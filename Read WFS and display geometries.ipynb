{
 "cells": [
  {
   "cell_type": "markdown",
   "metadata": {},
   "source": [
    "# Read WFS data from USGS ScienceBase into Shapely/Cartopy"
   ]
  },
  {
   "cell_type": "code",
   "execution_count": 4,
   "metadata": {},
   "outputs": [
    {
     "name": "stdout",
     "output_type": "stream",
     "text": [
      "Name: pyproj\r\n",
      "Version: 1.9.5.1\r\n",
      "Summary: Python interface to PROJ.4 library\r\n",
      "Home-page: https://github.com/jswhit/pyproj\r\n",
      "Author: Jeff Whitaker\r\n",
      "Author-email: jeffrey.s.whitaker@noaa.gov\r\n",
      "License: OSI Approved\r\n",
      "Location: /home/zeppelin-v/.local/lib/python3.5/site-packages\r\n",
      "Requires: \r\n",
      "Required-by: OWSLib\r\n"
     ]
    }
   ],
   "source": [
    "!pip show pyproj"
   ]
  },
  {
   "cell_type": "markdown",
   "metadata": {},
   "source": [
    "Based on notebook by Rich Signell. Use to test connection to GeoServer WFS with JSON output format"
   ]
  },
  {
   "cell_type": "code",
   "execution_count": 17,
   "metadata": {},
   "outputs": [],
   "source": [
    "import numpy as np\n",
    "import matplotlib.pyplot as plt\n",
    "import geojson\n",
    "from owslib.wfs import WebFeatureService\n",
    "from shapely.geometry import Polygon, Point, mapping, asShape, shape\n",
    "# import cartopy.crs as ccrs\n",
    "# from cartopy.io.img_tiles import MapQuestOpenAerial, MapQuestOSM, OSM\n",
    "%matplotlib inline"
   ]
  },
  {
   "cell_type": "code",
   "execution_count": 18,
   "metadata": {},
   "outputs": [],
   "source": [
    "# Read shapefile data from USGS ScienceBase WFS 1.1 service in JSON format\n",
    "# (shapefile was previosly uploaded to ScienceBase, creating the WFS service)"
   ]
  },
  {
   "cell_type": "code",
   "execution_count": 19,
   "metadata": {},
   "outputs": [],
   "source": [
    "# getCapabilities\n",
    "#https://www.sciencebase.gov/catalogMaps/mapping/ows/5342c54be4b0aa151574a8dc?service=wfs&version=1.0.0&request=GetCapabilities\n",
    "# containes LatLongBoundingBox for each feature"
   ]
  },
  {
   "cell_type": "code",
   "execution_count": 20,
   "metadata": {},
   "outputs": [
    {
     "name": "stdout",
     "output_type": "stream",
     "text": [
      "wfs version 1.1.0\n"
     ]
    }
   ],
   "source": [
    "# some USGS ScienceBase Geoserver WFS endpoints:\n",
    "#endpoint='https://www.sciencebase.gov/catalogMaps/mapping/ows/5342c54be4b0aa151574a8dc'\n",
    "endpoint='https://www.sciencebase.gov/catalogMaps/mapping/ows/5342c5fce4b0aa151574a8ed'\n",
    "#endpoint='https://www.sciencebase.gov/catalogMaps/mapping/ows/5342e124e4b0aa151574a969'\n",
    "wfs = WebFeatureService(endpoint, version='1.1.0')\n",
    "print (\"wfs version\",wfs.version)"
   ]
  },
  {
   "cell_type": "code",
   "execution_count": 21,
   "metadata": {},
   "outputs": [
    {
     "name": "stdout",
     "output_type": "stream",
     "text": [
      "dict_keys(['sb:Conservation_Zone_WGS84', 'sb:footprint'])\n"
     ]
    }
   ],
   "source": [
    "shp = wfs.contents.keys()\n",
    "print(shp)"
   ]
  },
  {
   "cell_type": "code",
   "execution_count": 22,
   "metadata": {},
   "outputs": [],
   "source": [
    "a = wfs.contents['sb:footprint']\n",
    "b = a.boundingBoxWGS84"
   ]
  },
  {
   "cell_type": "code",
   "execution_count": 23,
   "metadata": {},
   "outputs": [
    {
     "name": "stdout",
     "output_type": "stream",
     "text": [
      "['sb:Conservation_Zone_WGS84']\n"
     ]
    }
   ],
   "source": [
    "shp = filter(lambda a: a != 'sb:footprint', shp)\n",
    "featurelist=list(shp)\n",
    "print(featurelist)\n"
   ]
  },
  {
   "cell_type": "code",
   "execution_count": 24,
   "metadata": {},
   "outputs": [],
   "source": [
    "def flip_geojson_coordinates(geo):\n",
    "    if isinstance(geo, dict):\n",
    "        for k in geo:\n",
    "            #print(\"key: \",k)\n",
    "            if k == \"coordinates\":\n",
    "                z = np.asarray(geo[k])\n",
    "                f = z.flatten()\n",
    "                geo[k] = np.dstack((f[1::2], f[::2])).reshape(z.shape).tolist()\n",
    "            else:\n",
    "                flip_geojson_coordinates(geo[k])\n",
    "    elif isinstance(geo, list):\n",
    "        for k in geo:\n",
    "            #print('list key {0}'.format(k))\n",
    "            flip_geojson_coordinates(k)"
   ]
  },
  {
   "cell_type": "code",
   "execution_count": 25,
   "metadata": {},
   "outputs": [
    {
     "name": "stdout",
     "output_type": "stream",
     "text": [
      "geo done\n",
      "flip done\n"
     ]
    }
   ],
   "source": [
    "#srs='EPSG:4326' # v1.0 syntax\n",
    "srs='urn:x-ogc:def:crs:EPSG:4326'  # v1.1 syntax\n",
    "json_response = wfs.getfeature(typename=[featurelist[0]], propertyname=None, srsname=srs, outputFormat='application/json').read()\n",
    "#json_response = wfs.getfeature(typename=[next(shp)], propertyname=None, srsname=srs, outputFormat='application/json').read()\n",
    "\n",
    "geo = geojson.loads(json_response)\n",
    "print('geo done')\n",
    "flip_geojson_coordinates(geo)\n",
    "print('flip done')"
   ]
  },
  {
   "cell_type": "code",
   "execution_count": 26,
   "metadata": {},
   "outputs": [
    {
     "name": "stdout",
     "output_type": "stream",
     "text": [
      "dict_keys(['crs', 'type', 'features'])\n"
     ]
    }
   ],
   "source": [
    "print(geo.keys())"
   ]
  },
  {
   "cell_type": "code",
   "execution_count": 27,
   "metadata": {},
   "outputs": [
    {
     "name": "stdout",
     "output_type": "stream",
     "text": [
      "FeatureCollection\n"
     ]
    }
   ],
   "source": [
    "print(geo['type'])"
   ]
  },
  {
   "cell_type": "code",
   "execution_count": 39,
   "metadata": {},
   "outputs": [
    {
     "ename": "ImportError",
     "evalue": "No module named 'cartopy'",
     "output_type": "error",
     "traceback": [
      "\u001b[0;31m---------------------------------------------------------------------------\u001b[0m",
      "\u001b[0;31mImportError\u001b[0m                               Traceback (most recent call last)",
      "\u001b[0;32m<ipython-input-39-53b2684cc4f4>\u001b[0m in \u001b[0;36m<module>\u001b[0;34m()\u001b[0m\n\u001b[1;32m      1\u001b[0m \u001b[0;31m#This cell requires cartopy, but its not in the Jupyter environment and won't import\u001b[0m\u001b[0;34m\u001b[0m\u001b[0;34m\u001b[0m\u001b[0m\n\u001b[1;32m      2\u001b[0m \u001b[0;34m\u001b[0m\u001b[0m\n\u001b[0;32m----> 3\u001b[0;31m \u001b[0;32mimport\u001b[0m \u001b[0mcartopy\u001b[0m\u001b[0;34m.\u001b[0m\u001b[0mcrs\u001b[0m \u001b[0;32mas\u001b[0m \u001b[0mccrs\u001b[0m\u001b[0;34m\u001b[0m\u001b[0m\n\u001b[0m\u001b[1;32m      4\u001b[0m \u001b[0mgeodetic\u001b[0m \u001b[0;34m=\u001b[0m \u001b[0mccrs\u001b[0m\u001b[0;34m.\u001b[0m\u001b[0mGeodetic\u001b[0m\u001b[0;34m(\u001b[0m\u001b[0mglobe\u001b[0m\u001b[0;34m=\u001b[0m\u001b[0mccrs\u001b[0m\u001b[0;34m.\u001b[0m\u001b[0mGlobe\u001b[0m\u001b[0;34m(\u001b[0m\u001b[0mdatum\u001b[0m\u001b[0;34m=\u001b[0m\u001b[0;34m'WGS84'\u001b[0m\u001b[0;34m)\u001b[0m\u001b[0;34m)\u001b[0m\u001b[0;34m\u001b[0m\u001b[0m\n\u001b[1;32m      5\u001b[0m \u001b[0;34m\u001b[0m\u001b[0m\n",
      "\u001b[0;31mImportError\u001b[0m: No module named 'cartopy'"
     ]
    }
   ],
   "source": [
    "#This cell requires cartopy, but its not in the Jupyter environment and won't import\n",
    "\n",
    "import cartopy.crs as ccrs\n",
    "geodetic = ccrs.Geodetic(globe=ccrs.Globe(datum='WGS84'))\n",
    "\n",
    "plt.figure(figsize=(12,12))\n",
    "# Open Source Imagery from MapQuest (max zoom = 16?) [SMR2018-05-18 doesn't work]\n",
    "#tiler = MapQuestOpenAerial()\n",
    "# Open Street Map (max zoom = 18?)\n",
    "tiler = OSM()\n",
    "ax = plt.axes(projection=tiler.crs)\n",
    "dx=b[2]-b[0]\n",
    "dy=b[3]-b[1]\n",
    "extent = (b[0]-0.1*dx,b[2]+0.1*dx,b[1]-0.1*dy,b[3]+0.1*dy)\n",
    "ax.set_extent(extent, geodetic)\n",
    "ax.add_image(tiler, 14)\n",
    "#ax.add_geometries([polygon],ccrs.PlateCarree(),\n",
    "#                          facecolor=BLUE, edgecolor=GRAY,alpha=0.5)\n",
    "for p in geo.get(\"features\", []):\n",
    "    multi_poly = asShape(p.get(\"geometry\"))\n",
    "    print ('bounds from Shapely: ',multi_poly.bounds)\n",
    "#    name=p['properties']['NAME']\n",
    "#    print name\n",
    "    ax.add_geometries(multi_poly,ccrs.PlateCarree(),\n",
    "                edgecolor='black',facecolor='none',hatch='/')\n",
    "#title(name)\n",
    "    \n",
    "gl=ax.gridlines(draw_labels=True)\n",
    "gl.xlabels_top = False\n",
    "gl.ylabels_right = False\n",
    "#ax.add_feature(coast_10m,edgecolor='black')\n",
    "#ax.coastlines()"
   ]
  },
  {
   "cell_type": "code",
   "execution_count": 40,
   "metadata": {},
   "outputs": [
    {
     "name": "stdout",
     "output_type": "stream",
     "text": [
      "Collecting geopandas\n",
      "\u001b[?25l  Downloading https://files.pythonhosted.org/packages/0a/0e/8ae74743ed7915ddb7d70cc8dfa8fc0b9b9cc81205c6e288a01915a46192/geopandas-0.3.0-py2.py3-none-any.whl (888kB)\n",
      "\u001b[K    100% |████████████████████████████████| 890kB 14.8MB/s ta 0:00:01\n",
      "\u001b[?25hRequirement already satisfied: pandas in /usr/local/lib/python3.5/dist-packages (from geopandas) (0.22.0)\n",
      "Requirement already satisfied: pyproj in ./.local/lib/python3.5/site-packages (from geopandas) (1.9.5.1)\n",
      "Requirement already satisfied: shapely in ./.local/lib/python3.5/site-packages (from geopandas) (1.6.4.post1)\n",
      "Collecting descartes (from geopandas)\n",
      "  Downloading https://files.pythonhosted.org/packages/e5/b6/1ed2eb03989ae574584664985367ba70cd9cf8b32ee8cad0e8aaeac819f3/descartes-1.1.0-py3-none-any.whl\n",
      "Collecting fiona (from geopandas)\n",
      "\u001b[?25l  Downloading https://files.pythonhosted.org/packages/ef/84/f70121bc12cc1bfdd02a876b837bb92e8a446ebbed9dc6c183f8dc524494/Fiona-1.7.11.post2-cp35-cp35m-manylinux1_x86_64.whl (15.7MB)\n",
      "\u001b[K    100% |████████████████████████████████| 15.7MB 3.2MB/s eta 0:00:01\n",
      "\u001b[?25hRequirement already satisfied: python-dateutil>=2 in /usr/local/lib/python3.5/dist-packages (from pandas->geopandas) (2.7.2)\n",
      "Requirement already satisfied: pytz>=2011k in /usr/local/lib/python3.5/dist-packages (from pandas->geopandas) (2018.4)\n",
      "Requirement already satisfied: numpy>=1.9.0 in /usr/local/lib/python3.5/dist-packages (from pandas->geopandas) (1.14.3)\n",
      "Requirement already satisfied: matplotlib in /usr/local/lib/python3.5/dist-packages (from descartes->geopandas) (2.2.2)\n",
      "Collecting click-plugins (from fiona->geopandas)\n",
      "  Downloading https://files.pythonhosted.org/packages/77/05/da5c9e19457f20cadfe22c397cd3852577066066f63e40f2baa0831b1693/click-plugins-1.0.3.tar.gz\n",
      "Requirement already satisfied: six>=1.7 in /usr/local/lib/python3.5/dist-packages (from fiona->geopandas) (1.11.0)\n",
      "Collecting munch (from fiona->geopandas)\n",
      "  Downloading https://files.pythonhosted.org/packages/68/f4/260ec98ea840757a0da09e0ed8135333d59b8dfebe9752a365b04857660a/munch-2.3.2.tar.gz\n",
      "Collecting cligj>=0.4 (from fiona->geopandas)\n",
      "  Downloading https://files.pythonhosted.org/packages/fc/05/e8384e1f7c8689cd1b91818a24cc860077c73368fb285ba53fbd8556ec98/cligj-0.4.0-py3-none-any.whl\n",
      "Requirement already satisfied: pyparsing!=2.0.4,!=2.1.2,!=2.1.6,>=2.0.1 in /usr/local/lib/python3.5/dist-packages (from matplotlib->descartes->geopandas) (2.2.0)\n",
      "Requirement already satisfied: cycler>=0.10 in /usr/local/lib/python3.5/dist-packages (from matplotlib->descartes->geopandas) (0.10.0)\n",
      "Requirement already satisfied: kiwisolver>=1.0.1 in /usr/local/lib/python3.5/dist-packages (from matplotlib->descartes->geopandas) (1.0.1)\n",
      "Requirement already satisfied: click>=3.0 in ./.local/lib/python3.5/site-packages (from click-plugins->fiona->geopandas) (6.7)\n",
      "Requirement already satisfied: setuptools in /usr/local/lib/python3.5/dist-packages (from kiwisolver>=1.0.1->matplotlib->descartes->geopandas) (39.0.1)\n",
      "Building wheels for collected packages: click-plugins, munch\n",
      "  Running setup.py bdist_wheel for click-plugins ... \u001b[?25ldone\n",
      "\u001b[?25h  Stored in directory: /home/zeppelin-v/.cache/pip/wheels/bc/86/aa/7680e54728998edc1e966a20249b920e582012ed6bdd3815c4\n",
      "  Running setup.py bdist_wheel for munch ... \u001b[?25ldone\n",
      "\u001b[?25h  Stored in directory: /home/zeppelin-v/.cache/pip/wheels/db/bf/bc/06a3e1bfe0ab27d2e720ceb3cff3159398d92644c0cec2c125\n",
      "Successfully built click-plugins munch\n",
      "Installing collected packages: descartes, click-plugins, munch, cligj, fiona, geopandas\n",
      "\u001b[31mCould not install packages due to an EnvironmentError: [Errno 13] Permission denied: '/usr/local/lib/python3.5/dist-packages/descartes'\n",
      "Consider using the `--user` option or check the permissions.\n",
      "\u001b[0m\n",
      "Collecting geojsonio\n",
      "  Downloading https://files.pythonhosted.org/packages/7f/42/a773a4d4a6a78261dce418269cd017d8ff401206bc5724d9390084ebbf3d/geojsonio-0.0.3.tar.gz\n",
      "Collecting github3.py (from geojsonio)\n",
      "\u001b[?25l  Downloading https://files.pythonhosted.org/packages/42/3b/900fc188e92dc70362123a188471050acb5c49a0dc3e206931e764d856d7/github3.py-1.1.0-py2.py3-none-any.whl (141kB)\n",
      "\u001b[K    100% |████████████████████████████████| 143kB 8.4MB/s ta 0:00:01\n",
      "\u001b[?25hRequirement already satisfied: six in /usr/local/lib/python3.5/dist-packages (from geojsonio) (1.11.0)\n",
      "Requirement already satisfied: python-dateutil>=2.6.0 in /usr/local/lib/python3.5/dist-packages (from github3.py->geojsonio) (2.7.2)\n",
      "Requirement already satisfied: requests>=2.0 in /usr/local/lib/python3.5/dist-packages (from github3.py->geojsonio) (2.18.4)\n",
      "Collecting uritemplate>=3.0.0 (from github3.py->geojsonio)\n",
      "  Downloading https://files.pythonhosted.org/packages/e5/7d/9d5a640c4f8bf2c8b1afc015e9a9d8de32e13c9016dcc4b0ec03481fb396/uritemplate-3.0.0-py2.py3-none-any.whl\n",
      "Requirement already satisfied: idna<2.7,>=2.5 in /usr/local/lib/python3.5/dist-packages (from requests>=2.0->github3.py->geojsonio) (2.6)\n",
      "Requirement already satisfied: certifi>=2017.4.17 in /usr/local/lib/python3.5/dist-packages (from requests>=2.0->github3.py->geojsonio) (2018.1.18)\n",
      "Requirement already satisfied: urllib3<1.23,>=1.21.1 in /usr/local/lib/python3.5/dist-packages (from requests>=2.0->github3.py->geojsonio) (1.22)\n",
      "Requirement already satisfied: chardet<3.1.0,>=3.0.2 in /usr/local/lib/python3.5/dist-packages (from requests>=2.0->github3.py->geojsonio) (3.0.4)\n",
      "Building wheels for collected packages: geojsonio\n",
      "  Running setup.py bdist_wheel for geojsonio ... \u001b[?25ldone\n",
      "\u001b[?25h  Stored in directory: /home/zeppelin-v/.cache/pip/wheels/a9/ef/7c/7bbf228825e8717adaa84cd4b6c4ed8649b7958dd2bac45076\n",
      "Successfully built geojsonio\n",
      "Installing collected packages: uritemplate, github3.py, geojsonio\n",
      "\u001b[31mCould not install packages due to an EnvironmentError: [Errno 13] Permission denied: '/usr/local/lib/python3.5/dist-packages/uritemplate'\n",
      "Consider using the `--user` option or check the permissions.\n",
      "\u001b[0m\n"
     ]
    }
   ],
   "source": [
    "!pip3 install geopandas\n",
    "!pip3 install geojsonio"
   ]
  },
  {
   "cell_type": "code",
   "execution_count": 41,
   "metadata": {},
   "outputs": [
    {
     "ename": "ImportError",
     "evalue": "No module named 'geopandas'",
     "output_type": "error",
     "traceback": [
      "\u001b[0;31m---------------------------------------------------------------------------\u001b[0m",
      "\u001b[0;31mImportError\u001b[0m                               Traceback (most recent call last)",
      "\u001b[0;32m<ipython-input-41-a62d01c1d62e>\u001b[0m in \u001b[0;36m<module>\u001b[0;34m()\u001b[0m\n\u001b[0;32m----> 1\u001b[0;31m \u001b[0;32mimport\u001b[0m \u001b[0mgeopandas\u001b[0m \u001b[0;32mas\u001b[0m \u001b[0mgpd\u001b[0m\u001b[0;34m\u001b[0m\u001b[0m\n\u001b[0m",
      "\u001b[0;31mImportError\u001b[0m: No module named 'geopandas'"
     ]
    }
   ],
   "source": [
    "import geopandas as gpd"
   ]
  },
  {
   "cell_type": "code",
   "execution_count": null,
   "metadata": {},
   "outputs": [],
   "source": []
  },
  {
   "cell_type": "code",
   "execution_count": null,
   "metadata": {},
   "outputs": [],
   "source": []
  }
 ],
 "metadata": {
  "kernelspec": {
   "display_name": "Python 3",
   "language": "python",
   "name": "python3"
  },
  "language_info": {
   "codemirror_mode": {
    "name": "ipython",
    "version": 3
   },
   "file_extension": ".py",
   "mimetype": "text/x-python",
   "name": "python",
   "nbconvert_exporter": "python",
   "pygments_lexer": "ipython3",
   "version": "3.5.2"
  }
 },
 "nbformat": 4,
 "nbformat_minor": 2
}

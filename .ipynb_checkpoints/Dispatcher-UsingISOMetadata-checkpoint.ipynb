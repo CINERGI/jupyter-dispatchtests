{
 "cells": [
  {
   "cell_type": "markdown",
   "metadata": {},
   "source": [
    "# Jupyter Notebook Dispatcher based on metadata content\n",
    "\n",
    "### Execute the cells below to get parameters from metadata and select a notebook for processing ###\n"
   ]
  },
  {
   "cell_type": "markdown",
   "metadata": {},
   "source": [
    "First cell executes some Javascript.\n",
    "\n",
    "the execute command defines the variables documentID, user, and full_notebook_url used later in python\n",
    "\n",
    "The Javascript function getQueryString takes 'key' argument that is a string parameter name. The calling URL that opens the notebook will return the value assigned to that URL parameter if the parameter is present. \n",
    "example URL: http://suave-jupyterhub.com/user/zeppelin-v/notebooks/CinergiDispatch-UseMetadata.ipynb?documentId=f8617294d50d494dae64d8286fb2efaa\n",
    "\n",
    "http://{jupypter hub host}/user/{user registered with the hub}/notebooks/{name of this notebook}?{parameter1}={value1}"
   ]
  },
  {
   "cell_type": "code",
   "execution_count": null,
   "metadata": {
    "collapsed": true
   },
   "outputs": [],
   "source": [
    "%%javascript\n",
    "function getQueryStringValue (key)\n",
    "{  \n",
    "    return unescape(window.location.search.replace(new RegExp(\"^(?:.*[&\\\\?]\" + escape(key).replace(/[\\.\\+\\*]/g, \"\\\\$&\") + \"(?:\\\\=([^&]*))?)?.*$\", \"i\"), \"$1\"));\n",
    "}\n",
    "IPython.notebook.kernel.execute(\"documentID='\".concat(getQueryStringValue(\"documentId\")).concat(\"'\"));\n",
    "IPython.notebook.kernel.execute(\"user='\".concat(getQueryStringValue(\"user\")).concat(\"'\"));\n",
    "IPython.notebook.kernel.execute(\"full_notebook_url='\" + window.location + \"'\"); \n",
    "\n"
   ]
  },
  {
   "cell_type": "markdown",
   "metadata": {},
   "source": [
    "## Parameters passed to workbench: ##"
   ]
  },
  {
   "cell_type": "code",
   "execution_count": null,
   "metadata": {
    "collapsed": true
   },
   "outputs": [],
   "source": [
    "# Check if the parameters are correct\n",
    "import ntpath\n",
    "from __future__ import print_function\n",
    "from ipywidgets import interact, interactive, fixed, interact_manual\n",
    "import ipywidgets as widgets\n",
    "import webbrowser\n",
    "url_partitioned = full_notebook_url.partition('/CinergiDispatch')\n",
    "base_url = url_partitioned[0];\n",
    "\n",
    "# echo variables for clarity\n",
    "print(\"User: \",user)\n",
    "print(\"DocumentID: \", documentID)\n",
    "print(\"full notebook url partition\", url_partitioned)\n",
    "print(\"full notebook url\", full_notebook_url)"
   ]
  },
  {
   "cell_type": "markdown",
   "metadata": {},
   "source": [
    "#ToDo: \n",
    "1. get the metadata record for the URL; probably have to call ESRI JSON because of uncertainty about what dialect the XML will use\n",
    "2. extract distribution and format information to use for filtering the action options\n",
    "3. offer user choice of workbench actions\n",
    "4. execute action; this will likely be a system command or opening another URL that might be another notebook or some other web application\n"
   ]
  },
  {
   "cell_type": "code",
   "execution_count": 1,
   "metadata": {},
   "outputs": [
    {
     "name": "stdout",
     "output_type": "stream",
     "text": [
      "metadata URL:  http://cinergi.sdsc.edu/geoportal/rest/metadata/item/4db8156abb6d4119aa5c35aa39514b42\n",
      "base URL:  https://www.sciencebase.gov/catalogMaps/mapping/ows/5032ab9de4b0d64661a77224\n",
      "['sb:footprint', 'sb:WYSagegrouse_currentdistribution']\n"
     ]
    }
   ],
   "source": [
    "import json\n",
    "\n",
    "import requests\n",
    "from lxml import etree  #supposed to be better than xml.etree\n",
    "import sys\n",
    "#import xml.etree.ElementTree as ET\n",
    "from io import StringIO,BytesIO\n",
    "from owslib.wfs import WebFeatureService\n",
    "from shapely.geometry import Polygon, mapping, asShape, shape\n",
    "\n",
    "catalogURL = \"http://cinergi.sdsc.edu/geoportal/\"\n",
    "#documentID=\"e3619c5df2644204b67f51f48525a0b1\"\n",
    "documentID=\"4db8156abb6d4119aa5c35aa39514b42\"\n",
    "\n",
    "metadataURLJ=catalogURL + 'rest/metadata/item/' + documentID\n",
    "\n",
    "print (\"metadata URL: \", metadataURLJ)\n",
    "\n",
    "the_page = requests.get(metadataURLJ)\n",
    "\n",
    "thejson=json.loads(the_page.text)\n",
    "\n",
    "for resource in thejson[\"_source\"][\"resources_nst\"]:\n",
    "    #print (resource[\"url_type_s\"])\n",
    "    if resource[\"url_type_s\"] == 'WFS':\n",
    "        #print(\"WFS link: \",resource[\"url_s\"])\n",
    "        resourceurl=resource[\"url_s\"]\n",
    "        \n",
    "        url_partitioned = resourceurl.partition('?')\n",
    "        base_url = url_partitioned[0];\n",
    "        print(\"base URL: \",base_url)\n",
    "        wfs = WebFeatureService(base_url, version='1.1.0')\n",
    "        \n",
    "        break\n",
    "        \n",
    "if not (wfs):\n",
    "    print (\"no wfs found\")\n",
    "    sys.exit()\n",
    "\n",
    "print (list(wfs.contents))"
   ]
  },
  {
   "cell_type": "code",
   "execution_count": 3,
   "metadata": {},
   "outputs": [
    {
     "name": "stdout",
     "output_type": "stream",
     "text": [
      "Collecting osgeo\n",
      "\u001b[31m  Could not find a version that satisfies the requirement osgeo (from versions: )\u001b[0m\n",
      "\u001b[31mNo matching distribution found for osgeo\u001b[0m\n",
      "\u001b[33mYou are using pip version 10.0.1, however version 18.0 is available.\n",
      "You should consider upgrading via the 'pip install --upgrade pip' command.\u001b[0m\n"
     ]
    }
   ],
   "source": [
    "# !pip install osgeo\n"
   ]
  },
  {
   "cell_type": "code",
   "execution_count": 2,
   "metadata": {},
   "outputs": [
    {
     "ename": "SystemExit",
     "evalue": "ERROR: cannot find GDAL/OGR modules",
     "output_type": "error",
     "traceback": [
      "An exception has occurred, use %tb to see the full traceback.\n",
      "\u001b[0;31mSystemExit\u001b[0m\u001b[0;31m:\u001b[0m ERROR: cannot find GDAL/OGR modules\n"
     ]
    },
    {
     "name": "stderr",
     "output_type": "stream",
     "text": [
      "/usr/local/lib/python3.5/dist-packages/IPython/core/interactiveshell.py:2971: UserWarning: To exit: use 'exit', 'quit', or Ctrl-D.\n",
      "  warn(\"To exit: use 'exit', 'quit', or Ctrl-D.\", stacklevel=1)\n"
     ]
    }
   ],
   "source": [
    "try:\n",
    "    from osgeo import ogr, osr, gdal\n",
    "except:\n",
    "    sys.exit('ERROR: cannot find GDAL/OGR modules')\n",
    "\n",
    "#get the url to retrieve xml record from catalog\n",
    "metadataURLx=catalogURL + 'rest/metadata/item/' + documentID + '.xml'\n",
    "\n",
    "print (\"metadata URL: \", metadataURLx)\n",
    "\n",
    "#get the xml record\n",
    "the_page = requests.get(metadataURLx)\n",
    "\n"
   ]
  },
  {
   "cell_type": "code",
   "execution_count": null,
   "metadata": {
    "collapsed": true
   },
   "outputs": [],
   "source": [
    "#covert to json\n",
    "the_page_json=thepage.ExportToJson()"
   ]
  }
 ],
 "metadata": {
  "kernelspec": {
   "display_name": "Python36-anaconda",
   "language": "python",
   "name": "python3"
  },
  "language_info": {
   "codemirror_mode": {
    "name": "ipython",
    "version": 3
   },
   "file_extension": ".py",
   "mimetype": "text/x-python",
   "name": "python",
   "nbconvert_exporter": "python",
   "pygments_lexer": "ipython3",
   "version": "3.6.5"
  },
  "toc": {
   "base_numbering": 1,
   "nav_menu": {},
   "number_sections": true,
   "sideBar": true,
   "skip_h1_title": false,
   "title_cell": "Table of Contents",
   "title_sidebar": "Contents",
   "toc_cell": false,
   "toc_position": {},
   "toc_section_display": true,
   "toc_window_display": false
  }
 },
 "nbformat": 4,
 "nbformat_minor": 2
}

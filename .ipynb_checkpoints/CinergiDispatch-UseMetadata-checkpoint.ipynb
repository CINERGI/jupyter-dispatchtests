{
 "cells": [
  {
   "cell_type": "markdown",
   "metadata": {},
   "source": [
    "# Cinergi Jupyter Notebook Dispatcher based on metadata content\n",
    "\n",
    "### Execute the cells below to get parameters from Cinergi and select a notebook for processing ###\n"
   ]
  },
  {
   "cell_type": "markdown",
   "metadata": {},
   "source": [
    "First cell executes some Javascript.\n",
    "\n",
    "the execute command defines the variables documentID, user, and full_notebook_url used later in python\n",
    "\n",
    "The Javascript function getQueryString takes 'key' argument that is a string parameter name. The calling URL that opens the notebook will return the value assigned to that URL parameter if the parameter is present. \n",
    "example URL: http://suave-jupyterhub.com/user/zeppelin-v/notebooks/CinergiDispatch-UseMetadata.ipynb?documentId=f8617294d50d494dae64d8286fb2efaa\n",
    "\n",
    "http://{jupypter hub host}/user/{user registered with the hub}/notebooks/{name of this notebook}?{parameter1}={value1}"
   ]
  },
  {
   "cell_type": "code",
   "execution_count": 1,
   "metadata": {},
   "outputs": [
    {
     "data": {
      "application/javascript": [
       "function getQueryStringValue (key)\n",
       "{  \n",
       "    return unescape(window.location.search.replace(new RegExp(\"^(?:.*[&\\\\?]\" + escape(key).replace(/[\\.\\+\\*]/g, \"\\\\$&\") + \"(?:\\\\=([^&]*))?)?.*$\", \"i\"), \"$1\"));\n",
       "}\n",
       "IPython.notebook.kernel.execute(\"documentID='\".concat(getQueryStringValue(\"documentId\")).concat(\"'\"));\n",
       "IPython.notebook.kernel.execute(\"user='\".concat(getQueryStringValue(\"user\")).concat(\"'\"));\n",
       "IPython.notebook.kernel.execute(\"full_notebook_url='\" + window.location + \"'\"); \n"
      ],
      "text/plain": [
       "<IPython.core.display.Javascript object>"
      ]
     },
     "metadata": {},
     "output_type": "display_data"
    }
   ],
   "source": [
    "%%javascript\n",
    "function getQueryStringValue (key)\n",
    "{  \n",
    "    return unescape(window.location.search.replace(new RegExp(\"^(?:.*[&\\\\?]\" + escape(key).replace(/[\\.\\+\\*]/g, \"\\\\$&\") + \"(?:\\\\=([^&]*))?)?.*$\", \"i\"), \"$1\"));\n",
    "}\n",
    "IPython.notebook.kernel.execute(\"documentID='\".concat(getQueryStringValue(\"documentId\")).concat(\"'\"));\n",
    "IPython.notebook.kernel.execute(\"user='\".concat(getQueryStringValue(\"user\")).concat(\"'\"));\n",
    "IPython.notebook.kernel.execute(\"full_notebook_url='\" + window.location + \"'\"); \n",
    "\n"
   ]
  },
  {
   "cell_type": "markdown",
   "metadata": {},
   "source": [
    "## Parameters passed to workbench: ##"
   ]
  },
  {
   "cell_type": "code",
   "execution_count": 2,
   "metadata": {},
   "outputs": [
    {
     "ename": "NameError",
     "evalue": "name 'full_notebook_url' is not defined",
     "output_type": "error",
     "traceback": [
      "\u001b[0;31m---------------------------------------------------------------------------\u001b[0m",
      "\u001b[0;31mNameError\u001b[0m                                 Traceback (most recent call last)",
      "\u001b[0;32m<ipython-input-2-534243a87dee>\u001b[0m in \u001b[0;36m<module>\u001b[0;34m()\u001b[0m\n\u001b[1;32m      5\u001b[0m \u001b[0;32mimport\u001b[0m \u001b[0mipywidgets\u001b[0m \u001b[0;32mas\u001b[0m \u001b[0mwidgets\u001b[0m\u001b[0;34m\u001b[0m\u001b[0m\n\u001b[1;32m      6\u001b[0m \u001b[0;32mimport\u001b[0m \u001b[0mwebbrowser\u001b[0m\u001b[0;34m\u001b[0m\u001b[0m\n\u001b[0;32m----> 7\u001b[0;31m \u001b[0murl_partitioned\u001b[0m \u001b[0;34m=\u001b[0m \u001b[0mfull_notebook_url\u001b[0m\u001b[0;34m.\u001b[0m\u001b[0mpartition\u001b[0m\u001b[0;34m(\u001b[0m\u001b[0;34m'/CinergiDispatch'\u001b[0m\u001b[0;34m)\u001b[0m\u001b[0;34m\u001b[0m\u001b[0m\n\u001b[0m\u001b[1;32m      8\u001b[0m \u001b[0mbase_url\u001b[0m \u001b[0;34m=\u001b[0m \u001b[0murl_partitioned\u001b[0m\u001b[0;34m[\u001b[0m\u001b[0;36m0\u001b[0m\u001b[0;34m]\u001b[0m\u001b[0;34m;\u001b[0m\u001b[0;34m\u001b[0m\u001b[0m\n\u001b[1;32m      9\u001b[0m \u001b[0;34m\u001b[0m\u001b[0m\n",
      "\u001b[0;31mNameError\u001b[0m: name 'full_notebook_url' is not defined"
     ]
    }
   ],
   "source": [
    "# Check if the parameters are correct\n",
    "import ntpath\n",
    "from __future__ import print_function\n",
    "from ipywidgets import interact, interactive, fixed, interact_manual\n",
    "import ipywidgets as widgets\n",
    "import webbrowser\n",
    "url_partitioned = full_notebook_url.partition('/CinergiDispatch')\n",
    "base_url = url_partitioned[0];\n",
    "\n",
    "# echo variables for clarity\n",
    "print(\"User: \",user)\n",
    "print(\"DocumentID: \", documentID)\n",
    "print(\"full notebook url partition\", url_partitioned)\n",
    "print(\"full notebook url\", full_notebook_url)"
   ]
  },
  {
   "cell_type": "markdown",
   "metadata": {},
   "source": [
    "#ToDo: \n",
    "1. get the metadata record for the URL; probably have to call ESRI JSON because of uncertainty about what dialect the XML will use\n",
    "2. extract distribution and format information to use for filtering the action options\n",
    "3. offer user choice of workbench actions\n",
    "4. execute action; this will likely be a system command or opening another URL that might be another notebook or some other web application\n"
   ]
  },
  {
   "cell_type": "code",
   "execution_count": 3,
   "metadata": {},
   "outputs": [
    {
     "name": "stdout",
     "output_type": "stream",
     "text": [
      "metadata URL:  http://cinergi.sdsc.edu/geoportal/rest/metadata/item/4db8156abb6d4119aa5c35aa39514b42\n",
      "base URL:  https://www.sciencebase.gov/catalogMaps/mapping/ows/5032ab9de4b0d64661a77224\n",
      "['sb:footprint', 'sb:WYSagegrouse_currentdistribution']\n"
     ]
    }
   ],
   "source": [
    "import json\n",
    "\n",
    "import requests\n",
    "from lxml import etree  #supposed to be better than xml.etree\n",
    "import sys\n",
    "#import xml.etree.ElementTree as ET\n",
    "from io import StringIO,BytesIO\n",
    "from owslib.wfs import WebFeatureService\n",
    "from shapely.geometry import Polygon, mapping, asShape, shape\n",
    "\n",
    "catalogURL = \"http://cinergi.sdsc.edu/geoportal/\"\n",
    "#documentID=\"e3619c5df2644204b67f51f48525a0b1\"\n",
    "documentID=\"4db8156abb6d4119aa5c35aa39514b42\"\n",
    "\n",
    "metadataURL=catalogURL + 'rest/metadata/item/' + documentID\n",
    "\n",
    "print (\"metadata URL: \", metadataURL)\n",
    "\n",
    "the_page = requests.get(metadataURL)\n",
    "\n",
    "thejson=json.loads(the_page.text)\n",
    "\n",
    "for resource in thejson[\"_source\"][\"resources_nst\"]:\n",
    "    #print (resource[\"url_type_s\"])\n",
    "    if resource[\"url_type_s\"] == 'WFS':\n",
    "        #print(\"WFS link: \",resource[\"url_s\"])\n",
    "        resourceurl=resource[\"url_s\"]\n",
    "        \n",
    "        url_partitioned = resourceurl.partition('?')\n",
    "        base_url = url_partitioned[0];\n",
    "        print(\"base URL: \",base_url)\n",
    "        wfs = WebFeatureService(base_url, version='1.1.0')\n",
    "        \n",
    "        break\n",
    "        \n",
    "if not (wfs):\n",
    "    print (\"no wfs found\")\n",
    "    sys.exit()\n",
    "\n",
    "print (list(wfs.contents))"
   ]
  },
  {
   "cell_type": "code",
   "execution_count": null,
   "metadata": {
    "collapsed": true
   },
   "outputs": [],
   "source": [
    "a = wfs.contents['sb:footprint']\n",
    "b = a.boundingBoxWGS84\n",
    "shp = wfs.contents.keys()\n",
    "print(shp)\n",
    "shp = filter(lambda a: a != 'sb:footprint', shp)\n",
    "featurelist=list(shp)\n",
    "print(featurelist)\n"
   ]
  },
  {
   "cell_type": "markdown",
   "metadata": {},
   "source": [
    "        \n",
    "        if (\"etcapabilities\" in resourceurl.lower()) and (\"service=wfs\" in resourceurl.lower()):\n",
    "            #check that are requesting v1.1.0\n",
    "            if (\"version=1.1.0\" in resourceurl):\n",
    "                resourceurl=resourceurl\n",
    "            elif (\"version=1.0.0\" in resourceurl):\n",
    "                resourceurl=resourceurl.replace(\"version=1.0.0\",\"version=1.1.0\")\n",
    "            elif (\"version=2.0.0\" in resourceurl):\n",
    "                resourceurl=resourceurl.replace(\"version=2.0.0\",\"version=1.1.0\")\n",
    "            elif not (\"version=\" in resourceurl):\n",
    "                resourceurl=resourceurl +  \"version=1.1.0\"    \n",
    "            print(\"Resource URL: \",resourceurl)\n",
    "            thecap=requests.get(resourceurl)\n",
    "            print(requests.head(resourceurl))\n",
    "            #print(\"WFS capabilities: \",thecap.text)\n",
    "            \n",
    "#thecap=requests.get('https://www.sciencebase.gov/catalogMaps/mapping/ows/5032ab9de4b0d64661a77224?version=1.1.0&service=wfs&request=GetCapabilities')\n",
    "\n",
    "\n",
    "    \n",
    "#print(thejson[\"_source\"][\"resources_nst\"][1][\"url_type_s\"])"
   ]
  },
  {
   "cell_type": "code",
   "execution_count": null,
   "metadata": {
    "collapsed": true
   },
   "outputs": [],
   "source": [
    "#namespaces = {'ows':'http://www.opengis.net/ows'} # add more as needed\n",
    "\n",
    "#root.findall('owl:Class', namespaces)\n",
    "# StringIO(thecap.text)\n",
    "if thecap:\n",
    "    tree = etree.parse(BytesIO(thecap.text))\n",
    "    root = tree.getroot()  \n",
    "    namespaces=root.nsmap\n",
    "    print(namespaces)\n",
    "    #print(tree.find(\".//ows:Operation[@name='GetFeature']/ows:Parameter[@name='outputFormat']\",namespaces))\n",
    "    formatparameters=tree.find(\".//ows:Operation[@name='GetFeature']/ows:Parameter[@name='outputFormat']\",namespaces)\n",
    "    formats=formatparameters.findall(\".//ows:Value\",namespaces)\n",
    "    #print(formats)\n",
    "    for aformat in formats:\n",
    "        if 'json' in aformat.text: \n",
    "            print(aformat.text)"
   ]
  },
  {
   "cell_type": "markdown",
   "metadata": {},
   "source": [
    "## Select a notebook and open its URL##"
   ]
  },
  {
   "cell_type": "code",
   "execution_count": null,
   "metadata": {
    "collapsed": true,
    "scrolled": true
   },
   "outputs": [],
   "source": [
    "nb_menu = {\n",
    "    '1. ndbc-explore': 'cinergi/ndbc-explore.ipynb',\n",
    "    '2. ndbc-explore_v3': 'cinergi/ndbc-explore_v3.ipynb',\n",
    "    '3. ndbc-explore_v2': 'cinergi/ndbc-explore_v2.ipynb',\n",
    "    '4. NWIS-explore': 'cinergi/NWIS-explore.ipynb',\n",
    "}\n",
    "def f(notebooks_menu):\n",
    "    return notebooks_menu\n",
    "# out = interact(f, notebooks_menu=nb_menu);\n",
    "out = interact(f, notebooks_menu=nb_menu.keys());\n",
    "\n",
    "print(\"interact out: \", out)"
   ]
  },
  {
   "cell_type": "code",
   "execution_count": null,
   "metadata": {
    "collapsed": true
   },
   "outputs": [],
   "source": [
    "chosen_nb_name = nb_menu[out.widget.result]\n",
    "url1 = ('{base_url}/operations/{nb_name}?'+'docID='+documentID+'&'+'user='+user).format(base_url=base_url, nb_name=chosen_nb_name)\n",
    "\n",
    "#webbrowser.open(url1)\n",
    "webbrowser.open_new(url1)\n",
    "print(url1)\n",
    "\n",
    "#  CLICK TO OPEN THE URL BELOW"
   ]
  },
  {
   "cell_type": "code",
   "execution_count": null,
   "metadata": {
    "collapsed": true
   },
   "outputs": [],
   "source": []
  }
 ],
 "metadata": {
  "kernelspec": {
   "display_name": "Python36-anaconda",
   "language": "python",
   "name": "python3"
  },
  "language_info": {
   "codemirror_mode": {
    "name": "ipython",
    "version": 3
   },
   "file_extension": ".py",
   "mimetype": "text/x-python",
   "name": "python",
   "nbconvert_exporter": "python",
   "pygments_lexer": "ipython3",
   "version": "3.6.5"
  },
  "toc": {
   "base_numbering": 1,
   "nav_menu": {},
   "number_sections": true,
   "sideBar": true,
   "skip_h1_title": false,
   "title_cell": "Table of Contents",
   "title_sidebar": "Contents",
   "toc_cell": false,
   "toc_position": {},
   "toc_section_display": true,
   "toc_window_display": false
  }
 },
 "nbformat": 4,
 "nbformat_minor": 2
}

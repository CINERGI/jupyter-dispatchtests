{
 "cells": [
  {
   "cell_type": "markdown",
   "metadata": {},
   "source": [
    "# Data explorer for NWIS Time Series data\n",
    "\n",
    "S.M. Richard 2018-08-02\n",
    "\n",
    "NWIS is the National Water Information System, with data on surface and groundwater in the USA.\n",
    "This notebook uses data delivered in a sort of standardized tab-delimited text format 'rdb'.  \n",
    "Documentation for the format is at \n",
    "https://waterdata.usgs.gov/nwis/?tab_delimited_format_info  \n",
    "and   \n",
    "https://pubs.usgs.gov/of/2003/ofr03123/6.4rdb_format.pdf  \n",
    "updates: https://help.waterdata.usgs.gov/news/June-10-2016  \n",
    "\n",
    "Actual data (see the example URLs included below in one of the cells) shows some variability in conformance to the spec, and also probably reflect evolution of the spec over time.\n",
    "\n",
    "Important pattern is header in the text file with lines beginning with '#' character; \n",
    "\n",
    "* Header:  \n",
    "The header section contains zero or more lines with information such as disclaimers, sites, parameter and location names. \n",
    "The header comment lines start with a sharp sign (#) followed by (one or more...) space character followed by any text desired.\n",
    "\n",
    "* Column-name row:  \n",
    "The header is followed by exactly one tab-delimited column-name row. The fields in the tab-delimited column-name row contain the names of each column.\n",
    "\n",
    "* Column definition row:  \n",
    "This is followed by exactly one column-definition row.  The fields in the tab-delimited column-definition row contain the data definitions and optional column documentation for each column.\n",
    "\n",
    "* Data section:  \n",
    "Then is the data section consisting of any number of rows of tab-delimited data fields. Data rows must have exactly the same number of tab-delimited columns as both the column-name and column-definition rows. Null data values are allowed. \n",
    "\n",
    "NWIS data urls are like https://nwis.waterdata.usgs.gov/{state}/nwis/{dataseries}?site_no={siteIDstring}\n",
    "the {state} part of the host name is optional, can be left out when site_no is provided; it uses standard two character state-name abbreviations (e.g. md, ca, nv...)\n",
    "{dataseries} is a string identifying NWIS data categories. I haven't found a definitive list, but these are the ones I've figured out:\n",
    "    * uv -- current data \n",
    "    * dv -- daily values\n",
    "    * gwlevels -- groundwater levels\n",
    "    * peak -- peak stream flow at gage\n",
    "    * inventory -- site information. No time series information, but useful for location information\n",
    "    * measurements -- streamflow data for site; https://help.waterdata.usgs.gov/output-formats#streamflow_measurement_data. data files do not include the variable names in header\n",
    "    \n",
    "This notebook takes an NWIS site_no as the URL parameter, and determines what data are available for the site \n",
    "url like:\n",
    "* {notebook host}/NWIS-explore2.ipynb?dataurl=https://nwis.waterdata.usgs.gov/usa/nwis/qwdata/?site_no=07373420\n",
    "\n",
    "Note-- seems that selecting 'Cell/Run All' doesn't properly execute the javascript in the first cell of the 'Prepare Data' section below, you have to run that manually, then it will pick up the dataurl from the URL parameters that opened the notebook."
   ]
  },
  {
   "cell_type": "code",
   "execution_count": 15,
   "metadata": {
    "collapsed": true
   },
   "outputs": [],
   "source": [
    "#imports\n",
    "import pandas as pd\n",
    "import datetime\n",
    "import matplotlib.pyplot as plt\n",
    "import urllib\n",
    "\n",
    "from ipywidgets import widgets  \n",
    "from IPython.display import display\n",
    "from IPython.display import clear_output\n",
    "from tqdm import tqdm_notebook as tqdm\n",
    "\n",
    "#initialize some variables\n",
    "dataurl='init'"
   ]
  },
  {
   "cell_type": "code",
   "execution_count": 16,
   "metadata": {},
   "outputs": [
    {
     "data": {
      "application/javascript": [
       "/*  code to display very simple modal dialog.  ? how to put text box controls in?\n",
       "require(\n",
       "    [\"base/js/dialog\"], \n",
       "    function(dialog) {\n",
       "        dialog.modal({\n",
       "            title: 'Hello world',\n",
       "            body: 'Hi, lorem ipsum and such',\n",
       "            buttons: {\n",
       "                'Close': {}\n",
       "            }\n",
       "        });\n",
       "    }\n",
       ");\n",
       "*/\n",
       "\n",
       "// code to insert and execute code in python notebook\n",
       "// IPython.notebook.kernel.execute(\"title='\".concat(getQueryStringValue(\"dataurl\")).concat(\"'\"));"
      ],
      "text/plain": [
       "<IPython.core.display.Javascript object>"
      ]
     },
     "metadata": {},
     "output_type": "display_data"
    }
   ],
   "source": [
    "%%javascript\n",
    "/*  code to display very simple modal dialog.  ? how to put text box controls in?\n",
    "require(\n",
    "    [\"base/js/dialog\"], \n",
    "    function(dialog) {\n",
    "        dialog.modal({\n",
    "            title: 'Hello world',\n",
    "            body: 'Hi, lorem ipsum and such',\n",
    "            buttons: {\n",
    "                'Close': {}\n",
    "            }\n",
    "        });\n",
    "    }\n",
    ");\n",
    "*/\n",
    "\n",
    "// code to insert and execute code in python notebook\n",
    "// IPython.notebook.kernel.execute(\"title='\".concat(getQueryStringValue(\"dataurl\")).concat(\"'\"));\n"
   ]
  },
  {
   "cell_type": "markdown",
   "metadata": {},
   "source": [
    "# Utility functions"
   ]
  },
  {
   "cell_type": "code",
   "execution_count": 17,
   "metadata": {
    "collapsed": true
   },
   "outputs": [],
   "source": [
    "#simple function to see if a value can be parsed as a floating point number\n",
    "def is_number(s):\n",
    "    try:\n",
    "        float(s)\n",
    "        return True\n",
    "    except ValueError:\n",
    "        return False"
   ]
  },
  {
   "cell_type": "code",
   "execution_count": 18,
   "metadata": {
    "collapsed": true
   },
   "outputs": [],
   "source": [
    "def getmetavalue(rdbdata, label,skipVal=-1):\n",
    "    '''\n",
    "    function to look for a text string in a text string\n",
    "    input is a list of text string; \n",
    "    searches each string for string containing the 'label' string\n",
    "    returns the following text, with '- ' and leading/trailing spaces removed.\n",
    "    This is designed to extract explanation of names from a NWIS rdb document header\n",
    "    .\n",
    "    '''\n",
    "    inlabel=''\n",
    "    #first have to handle column names that are parameter numbers\n",
    "    if label.split('_')[0].isnumeric():\n",
    "        inlabel=label\n",
    "        label = label.split('_')[0]\n",
    "\n",
    "    \n",
    "    rowcount=0\n",
    "#    for line in rdbdata:\n",
    "#        rowcount=rowcount+1\n",
    "#    print('file lines: ' + str(rowcount))\n",
    "#    return('nothing')\n",
    "#    print('getmetadatavalue for ' + label)\n",
    "    for line in rdbdata:\n",
    "        strline = str(line)\n",
    "        #print('line:' + strline)\n",
    "        if (label in strline):\n",
    "            out= strline.split(label)[1]\n",
    "            out = out.strip()\n",
    "            if (strline[1:2]=='- '):\n",
    "                out = strline.split('- ')[1]\n",
    "            if (len(inlabel) == 0):\n",
    "                return(out)\n",
    "            else:\n",
    "                if (inlabel[-3:]=='_cd'):\n",
    "                    return(out+' code')\n",
    "                else:\n",
    "                    return(out)\n",
    "        rowcount=rowcount+1\n",
    "        if (skipVal > 0 and rowcount>skipVal): \n",
    "            return('Field not documemented')\n",
    "    return('Field not documemented')\n",
    "\n"
   ]
  },
  {
   "cell_type": "markdown",
   "metadata": {},
   "source": [
    "# Prepare Data:"
   ]
  },
  {
   "cell_type": "code",
   "execution_count": 19,
   "metadata": {},
   "outputs": [
    {
     "data": {
      "application/javascript": [
       "function getQueryStringValue (key){  \n",
       "    return unescape(window.location.search.replace(new RegExp(\"^(?:.*[&\\\\?]\" + escape(key).replace(/[\\.\\+\\*]/g, \"\\\\$&\") + \"(?:\\\\=([^&]*))?)?.*$\", \"i\"), \"$1\"));\n",
       "}\n",
       "IPython.notebook.kernel.execute(\"dataurl='\".concat(getQueryStringValue(\"dataurl\")).concat(\"'\"));\n",
       "\n",
       "IPython.notebook.kernel.execute(\"site_no='\".concat(getQueryStringValue(\"site_no\")).concat(\"'\"));\n",
       "//get the URL parameters and pass to python"
      ],
      "text/plain": [
       "<IPython.core.display.Javascript object>"
      ]
     },
     "metadata": {},
     "output_type": "display_data"
    }
   ],
   "source": [
    "%%javascript\n",
    "function getQueryStringValue (key){  \n",
    "    return unescape(window.location.search.replace(new RegExp(\"^(?:.*[&\\\\?]\" + escape(key).replace(/[\\.\\+\\*]/g, \"\\\\$&\") + \"(?:\\\\=([^&]*))?)?.*$\", \"i\"), \"$1\"));\n",
    "}\n",
    "IPython.notebook.kernel.execute(\"dataurl='\".concat(getQueryStringValue(\"dataurl\")).concat(\"'\"));\n",
    "\n",
    "IPython.notebook.kernel.execute(\"site_no='\".concat(getQueryStringValue(\"site_no\")).concat(\"'\"));\n",
    "//get the URL parameters and pass to python"
   ]
  },
  {
   "cell_type": "code",
   "execution_count": 20,
   "metadata": {
    "collapsed": true
   },
   "outputs": [],
   "source": [
    "# Some example URLS included here for various NWIS data\n",
    "\n",
    "if (dataurl=='init' or (len(dataurl)==0)):\n",
    "    print('No URL parameter')\n",
    "    # for testing without URL parameter\n",
    "    \n",
    "    # Water Quality Samples for the Nation\n",
    "    #dataurl = 'https://nwis.waterdata.usgs.gov/usa/nwis/qwdata/?site_no=07373420&format=rdb'\n",
    "    #dataurl = 'https://nwis.waterdata.usgs.gov/usa/nwis/qwdata/?site_no=07373420&pm_cd_compare=Greater%20than&format=rdb'\n",
    "    #site_no='07373420'\n",
    "    \n",
    "    # groundwater levels\n",
    "    #dataurl = 'http://nwis.waterdata.usgs.gov/pa/nwis/gwlevels?site_no=400650075514001&agency_cd=USGS&format=rdb'\n",
    "    # note this gets same result (no '/pa' in URL):\n",
    "    #dataurl = 'https://nwis.waterdata.usgs.gov/nwis/gwlevels?site_no=400650075514001&agency_cd=USGS&format=rdb'\n",
    "    #site_no='400650075514001'\n",
    "    \n",
    "    # current conditions\n",
    "    #dataurl = 'https://waterdata.usgs.gov/nwis/uv/?site_no=06191000&format=rdb'\n",
    "    #site_no='06191000'\n",
    "    \n",
    "    #peak stream flow service\n",
    "    #dataurl = 'https://nwis.waterdata.usgs.gov/nwis/peak/?site_no=01063310&agency_cd=USGS&format=rdb'\n",
    "    #site_no='01063310'\n",
    "    \n",
    "    #site information:\n",
    "    #dataurl = 'https://waterdata.usgs.gov/nwis/inventory/?site_no=06022500&format=rdb'\n",
    "    #site_no='06022500'\n",
    "    \n",
    "\n",
    "    # site measurements, rdb expanded, works in most cases but doesn't always add more columns:\n",
    "    dataurl = 'https://waterdata.usgs.gov/nwis/measurements?site_no=08158810&format=rdb_expanded'\n",
    "    site_no='08158810'\n",
    "    \n",
    "\n",
    "else:\n",
    "    dataurl= dataurl + '&agency_cd=USGS&format=rdb'"
   ]
  },
  {
   "cell_type": "markdown",
   "metadata": {},
   "source": [
    "# Data loader\n",
    "if there are alot of records for this site, this can take awhile, be patient."
   ]
  },
  {
   "cell_type": "code",
   "execution_count": 21,
   "metadata": {},
   "outputs": [
    {
     "name": "stdout",
     "output_type": "stream",
     "text": [
      "https://nwis.waterdata.usgs.gov/usa/nwis/qwdata/?site_no=07374000&agency_cd=USGS&format=rdb\n",
      "Downloading the dataset. Please wait...\n"
     ]
    },
    {
     "data": {
      "application/vnd.jupyter.widget-view+json": {
       "model_id": "bf965f4dbc7c4b4880c3fd26173cfd79",
       "version_major": 2,
       "version_minor": 0
      },
      "text/plain": [
       "HBox(children=(IntProgress(value=1, bar_style='info', max=1), HTML(value='')))"
      ]
     },
     "metadata": {},
     "output_type": "display_data"
    },
    {
     "name": "stdout",
     "output_type": "stream",
     "text": [
      "\n",
      "Rows to skip: 989\n",
      "loading pandas dataframe, Please wait...\n"
     ]
    },
    {
     "name": "stderr",
     "output_type": "stream",
     "text": [
      "E:\\EPrograms\\Anaconda\\envs\\py36\\lib\\site-packages\\IPython\\core\\interactiveshell.py:2785: DtypeWarning: Columns (1,4,5,10,11,12,14,18,20) have mixed types. Specify dtype option on import or set low_memory=False.\n",
      "  interactivity=interactivity, compiler=compiler, result=result)\n"
     ]
    },
    {
     "name": "stdout",
     "output_type": "stream",
     "text": [
      "Ready\n"
     ]
    }
   ],
   "source": [
    "# Get the data\n",
    "\n",
    "print(dataurl)\n",
    "print('Downloading the dataset. Please wait...')\n",
    "\n",
    "data = urllib.request.urlopen(dataurl) # it's a file like object and works just like a file\n",
    "# counter for the number of comment lines at the top of the file\n",
    "skipVal = 0\n",
    "datalist=[]\n",
    "# tqdm presents a progress bar\n",
    "for line in tqdm(data):\n",
    "    strline = str(line)\n",
    "    strline = strline.replace(\"\\\\r\",'')\n",
    "    strline = strline.replace(\"\\\\n\",'')\n",
    "    strline = strline.replace(\"\\'\",'')\n",
    "    #print('line:' + strline)\n",
    "    if '#' in strline:\n",
    "        if (strline.find(site_no)>-1):\n",
    "            site_label=(strline.split('# ')[1].strip())\n",
    "            #remove extra internal spaces\n",
    "            site_label = \" \".join(site_label.split())\n",
    "        #print(strline.split('#')[1].strip())\n",
    "        if (len(strline.split('#')[1].strip()) > 0): \n",
    "            out = strline.split('#')[1].strip()\n",
    "            out = \" \".join(out.split())\n",
    "            #print('output to datalist: ' + out)\n",
    "            datalist.append(out)\n",
    "    else:\n",
    "        break\n",
    "    skipVal = skipVal + 1\n",
    "print('Rows to skip: ' + str(skipVal))\n",
    "global df\n",
    "\n",
    "print('loading pandas dataframe, Please wait...')\n",
    "df = pd.read_csv(dataurl, sep='\\t',skiprows=range(0, skipVal),encoding='utf-8')\n",
    "\n",
    "#first row is formatting information, save for later\n",
    "formats = df.head(1)\n",
    "#print('formats: ' + str(formats))\n",
    "#print(str(formats['agency_cd'][0]))\n",
    "#drop the formatting information row\n",
    "df = df.drop(df.index[0])\n",
    "#print(df.info)\n",
    "print('Ready')"
   ]
  },
  {
   "cell_type": "code",
   "execution_count": 22,
   "metadata": {},
   "outputs": [
    {
     "data": {
      "text/plain": [
       "agency_cd                     object\n",
       "site_no                       object\n",
       "sample_dt                     object\n",
       "sample_tm                     object\n",
       "sample_end_dt                 object\n",
       "sample_end_tm                 object\n",
       "sample_start_time_datum_cd    object\n",
       "tm_datum_rlbty_cd             object\n",
       "coll_ent_cd                   object\n",
       "medium_cd                     object\n",
       "tu_id                         object\n",
       "body_part_id                  object\n",
       "parm_cd                       object\n",
       "remark_cd                     object\n",
       "result_va                     object\n",
       "val_qual_tx                   object\n",
       "meth_cd                       object\n",
       "dqi_cd                        object\n",
       "rpt_lev_va                    object\n",
       "rpt_lev_cd                    object\n",
       "lab_std_va                    object\n",
       "anl_ent_cd                    object\n",
       "dtype: object"
      ]
     },
     "execution_count": 22,
     "metadata": {},
     "output_type": "execute_result"
    }
   ],
   "source": [
    "df.dtypes"
   ]
  },
  {
   "cell_type": "code",
   "execution_count": 23,
   "metadata": {},
   "outputs": [
    {
     "data": {
      "application/vnd.jupyter.widget-view+json": {
       "model_id": "d93aa41da428419a8006fe9d38930475",
       "version_major": 2,
       "version_minor": 0
      },
      "text/plain": [
       "HBox(children=(IntProgress(value=0, max=22), HTML(value='')))"
      ]
     },
     "metadata": {},
     "output_type": "display_data"
    },
    {
     "name": "stdout",
     "output_type": "stream",
     "text": [
      "\n"
     ]
    }
   ],
   "source": [
    "# some data introspection; \n",
    "\n",
    "fielddescriptions={}\n",
    "\n",
    "for col in tqdm(df.columns):\n",
    "    mdstring = getmetavalue(datalist, str(col))\n",
    "    datatype='nan'\n",
    "    #print('field: ' + str(col) + '. '+ mdstring + '. Format: ' + str(formats[col][0]) )\n",
    "    if (col[-3:]=='_cd'):\n",
    "        datatype='code'\n",
    "    elif (str(formats[col][0])[-1:]=='s'):\n",
    "        for item in df[col].tolist():\n",
    "            #print(str(item)+' type ' + str(type(item)))\n",
    "            if str(item).isnumeric():\n",
    "                #print('isnumeric')\n",
    "                datatype='pinteger'\n",
    "            elif (str(item)!='nan' and is_number(str(item))):\n",
    "                #print('float')\n",
    "                datatype='float'\n",
    "            elif (str(item)!='nan'):\n",
    "                #print('string')\n",
    "                datatype='string'\n",
    "                \n",
    "    elif (str(formats[col][0])[-1:]=='d'):\n",
    "        datatype='date'\n",
    "    elif (str(formats[col][0])[-1:]=='n'):\n",
    "        datatype='float'\n",
    "    else:\n",
    "        datatype='string'\n",
    "    \n",
    "    fielddescriptions[col] = {'desc':mdstring, \n",
    "                              'format':str(formats[col][0]),\n",
    "                             'type':datatype}    \n",
    "    #print(col, fielddescriptions[col])\n",
    "    # this could be made into CINERGI pipeline process to add attribute descriptions to \n",
    "    #  the metadata records"
   ]
  },
  {
   "cell_type": "markdown",
   "metadata": {},
   "source": [
    "# Graph time series:\n",
    "\n",
    "X axis will be a time series; for now pick date fields.\n",
    "  * TBD identify time fields to construct more precise datetime coordinate where applicable\n",
    "\n",
    "Y axis is choses from numeric or float data type fields identified in the introspection section above.\n",
    "  * If there is a parm_cd and a result_va field, assume that have soft-typed parameter values (like in NWIS water quality data), add all unique values of parm_cd the pick list for y axis. \n",
    "  \n",
    "Display controls to pick x and y axis, and button to plot the graph  \n",
    "\n",
    "When the 'plot graph' button is clicked\n",
    " * construct the data series \n",
    " * call numpy plot"
   ]
  },
  {
   "cell_type": "code",
   "execution_count": 24,
   "metadata": {},
   "outputs": [
    {
     "data": {
      "text/plain": [
       "'Number of values in each column'"
      ]
     },
     "metadata": {},
     "output_type": "display_data"
    },
    {
     "data": {
      "text/html": [
       "<style  type=\"text/css\" >\n",
       "</style>  \n",
       "<table id=\"T_4ef4f7b8_18d0_11e9_a762_b808cf37b57a\" > \n",
       "<thead>    <tr> \n",
       "        <th class=\"blank level0\" ></th> \n",
       "        <th class=\"col_heading level0 col0\" >agency_cd</th> \n",
       "        <th class=\"col_heading level0 col1\" >site_no</th> \n",
       "        <th class=\"col_heading level0 col2\" >sample_dt</th> \n",
       "        <th class=\"col_heading level0 col3\" >sample_tm</th> \n",
       "        <th class=\"col_heading level0 col4\" >sample_end_dt</th> \n",
       "        <th class=\"col_heading level0 col5\" >sample_end_tm</th> \n",
       "        <th class=\"col_heading level0 col6\" >sample_start_time_datum_cd</th> \n",
       "        <th class=\"col_heading level0 col7\" >tm_datum_rlbty_cd</th> \n",
       "        <th class=\"col_heading level0 col8\" >coll_ent_cd</th> \n",
       "        <th class=\"col_heading level0 col9\" >medium_cd</th> \n",
       "        <th class=\"col_heading level0 col10\" >tu_id</th> \n",
       "        <th class=\"col_heading level0 col11\" >body_part_id</th> \n",
       "        <th class=\"col_heading level0 col12\" >parm_cd</th> \n",
       "        <th class=\"col_heading level0 col13\" >remark_cd</th> \n",
       "        <th class=\"col_heading level0 col14\" >result_va</th> \n",
       "        <th class=\"col_heading level0 col15\" >val_qual_tx</th> \n",
       "        <th class=\"col_heading level0 col16\" >meth_cd</th> \n",
       "        <th class=\"col_heading level0 col17\" >dqi_cd</th> \n",
       "        <th class=\"col_heading level0 col18\" >rpt_lev_va</th> \n",
       "        <th class=\"col_heading level0 col19\" >rpt_lev_cd</th> \n",
       "        <th class=\"col_heading level0 col20\" >lab_std_va</th> \n",
       "        <th class=\"col_heading level0 col21\" >anl_ent_cd</th> \n",
       "    </tr></thead> \n",
       "<tbody>    <tr> \n",
       "        <th id=\"T_4ef4f7b8_18d0_11e9_a762_b808cf37b57alevel0_row0\" class=\"row_heading level0 row0\" >0</th> \n",
       "        <td id=\"T_4ef4f7b8_18d0_11e9_a762_b808cf37b57arow0_col0\" class=\"data row0 col0\" >48858</td> \n",
       "        <td id=\"T_4ef4f7b8_18d0_11e9_a762_b808cf37b57arow0_col1\" class=\"data row0 col1\" >48858</td> \n",
       "        <td id=\"T_4ef4f7b8_18d0_11e9_a762_b808cf37b57arow0_col2\" class=\"data row0 col2\" >48858</td> \n",
       "        <td id=\"T_4ef4f7b8_18d0_11e9_a762_b808cf37b57arow0_col3\" class=\"data row0 col3\" >48858</td> \n",
       "        <td id=\"T_4ef4f7b8_18d0_11e9_a762_b808cf37b57arow0_col4\" class=\"data row0 col4\" >0</td> \n",
       "        <td id=\"T_4ef4f7b8_18d0_11e9_a762_b808cf37b57arow0_col5\" class=\"data row0 col5\" >0</td> \n",
       "        <td id=\"T_4ef4f7b8_18d0_11e9_a762_b808cf37b57arow0_col6\" class=\"data row0 col6\" >48858</td> \n",
       "        <td id=\"T_4ef4f7b8_18d0_11e9_a762_b808cf37b57arow0_col7\" class=\"data row0 col7\" >48858</td> \n",
       "        <td id=\"T_4ef4f7b8_18d0_11e9_a762_b808cf37b57arow0_col8\" class=\"data row0 col8\" >25107</td> \n",
       "        <td id=\"T_4ef4f7b8_18d0_11e9_a762_b808cf37b57arow0_col9\" class=\"data row0 col9\" >48858</td> \n",
       "        <td id=\"T_4ef4f7b8_18d0_11e9_a762_b808cf37b57arow0_col10\" class=\"data row0 col10\" >0</td> \n",
       "        <td id=\"T_4ef4f7b8_18d0_11e9_a762_b808cf37b57arow0_col11\" class=\"data row0 col11\" >0</td> \n",
       "        <td id=\"T_4ef4f7b8_18d0_11e9_a762_b808cf37b57arow0_col12\" class=\"data row0 col12\" >48858</td> \n",
       "        <td id=\"T_4ef4f7b8_18d0_11e9_a762_b808cf37b57arow0_col13\" class=\"data row0 col13\" >23519</td> \n",
       "        <td id=\"T_4ef4f7b8_18d0_11e9_a762_b808cf37b57arow0_col14\" class=\"data row0 col14\" >48830</td> \n",
       "        <td id=\"T_4ef4f7b8_18d0_11e9_a762_b808cf37b57arow0_col15\" class=\"data row0 col15\" >6768</td> \n",
       "        <td id=\"T_4ef4f7b8_18d0_11e9_a762_b808cf37b57arow0_col16\" class=\"data row0 col16\" >42900</td> \n",
       "        <td id=\"T_4ef4f7b8_18d0_11e9_a762_b808cf37b57arow0_col17\" class=\"data row0 col17\" >48858</td> \n",
       "        <td id=\"T_4ef4f7b8_18d0_11e9_a762_b808cf37b57arow0_col18\" class=\"data row0 col18\" >30165</td> \n",
       "        <td id=\"T_4ef4f7b8_18d0_11e9_a762_b808cf37b57arow0_col19\" class=\"data row0 col19\" >30165</td> \n",
       "        <td id=\"T_4ef4f7b8_18d0_11e9_a762_b808cf37b57arow0_col20\" class=\"data row0 col20\" >0</td> \n",
       "        <td id=\"T_4ef4f7b8_18d0_11e9_a762_b808cf37b57arow0_col21\" class=\"data row0 col21\" >31401</td> \n",
       "    </tr></tbody> \n",
       "</table> "
      ],
      "text/plain": [
       "<pandas.io.formats.style.Styler at 0x2d79a56c2e8>"
      ]
     },
     "metadata": {},
     "output_type": "display_data"
    }
   ],
   "source": [
    "if (df.size == 0):\n",
    "    print('Dataframe is empty, no data at this site')\n",
    "else:    \n",
    "    df.iloc[0]  # get focus on first row of dataframe\n",
    "    display(\"Number of values in each column\",pd.DataFrame(df.count()).transpose().style)\n"
   ]
  },
  {
   "cell_type": "code",
   "execution_count": 25,
   "metadata": {
    "scrolled": true
   },
   "outputs": [
    {
     "data": {
      "application/vnd.jupyter.widget-view+json": {
       "model_id": "9d373d469e7746f6a09129db77f16e62",
       "version_major": 2,
       "version_minor": 0
      },
      "text/plain": [
       "HBox(children=(IntProgress(value=0, max=22), HTML(value='')))"
      ]
     },
     "metadata": {},
     "output_type": "display_data"
    },
    {
     "name": "stdout",
     "output_type": "stream",
     "text": [
      "\n"
     ]
    },
    {
     "data": {
      "application/vnd.jupyter.widget-view+json": {
       "model_id": "0d1e5d2f021d446f94a50310a0f7da43",
       "version_major": 2,
       "version_minor": 0
      },
      "text/plain": [
       "HBox(children=(IntProgress(value=0, max=1119), HTML(value='')))"
      ]
     },
     "metadata": {},
     "output_type": "display_data"
    },
    {
     "name": "stdout",
     "output_type": "stream",
     "text": [
      "\n"
     ]
    }
   ],
   "source": [
    "# set up variable options for Y\n",
    "\n",
    "numfields=[\"Choose Variable:\"]  # this will be the prompt in the drop down box\n",
    "for col in tqdm(df.columns):\n",
    "    if ((fielddescriptions[col]['type'] == 'float' \n",
    "      or fielddescriptions[col]['type'] == 'pinteger')\n",
    "        and (df[col].count() > 1)\n",
    "       and (len(df[col].unique()) > 1)):\n",
    "        #print(df[col].count())\n",
    "        numfields.append(col+'| '+fielddescriptions[col]['desc'] +\n",
    "                      '. N=' + str(df[col].count())) \n",
    "\n",
    "# CHECK if there is a parameters field, for soft-typed result values\n",
    "if ('parm_cd' in df.columns.values and 'result_va' in df.columns.values):\n",
    "    #print('unique param:' + str(len(df['parm_cd'].unique())))\n",
    "    for aparam in tqdm(df['parm_cd'].unique()):\n",
    "        try:\n",
    "            mdstring = getmetavalue(datalist, str(aparam))\n",
    "            \n",
    "            valcount = df.loc[df['parm_cd'] == aparam]['result_va'].count()\n",
    "            if (valcount > 1):\n",
    "                #print('parameter %s, count %s' % (aparam, valcount))\n",
    "                numfields.append(str(aparam) + '| ' + mdstring +\n",
    "                    '. N=' + str(valcount))\n",
    "        except:\n",
    "            print('did not find name for parameter ' + str(aparam))\n",
    "            \n",
    "    try:\n",
    "        numfields.remove('result_va| '+fielddescriptions['result_va']['desc'])\n",
    "    except:\n",
    "        pass\n",
    "        \n",
    "#select x axis\n",
    "picky = widgets.Dropdown(\n",
    "    options=numfields,\n",
    "    description='Numeric field:',\n",
    "    disabled=False,\n",
    "    value = 'Choose Variable:'\n",
    ")\n",
    "\n",
    "yaxisfield=''\n",
    "\n",
    "#Describe what happens when the dropdown changes its value\n",
    "def on_change_y(change):\n",
    "    global yaxisfield\n",
    "    if change['type'] == 'change' and change['name'] == 'value':\n",
    "        #print('change: ' + str(change['new']))\n",
    "        yaxisfield=change['new'].split('|')[0]\n",
    "        print('yaxis: %s' % yaxisfield)\n",
    "    return\n",
    "        \n"
   ]
  },
  {
   "cell_type": "code",
   "execution_count": 26,
   "metadata": {},
   "outputs": [
    {
     "name": "stdout",
     "output_type": "stream",
     "text": [
      "['Choose Field', 'sample_dt', 'sample_end_dt']\n"
     ]
    }
   ],
   "source": [
    "#reformat strings to dates  TBD: look for column names ending in '_dt' and work on those\n",
    "datefields=[\"Choose Field\"]  #prompt for the drop down list\n",
    "for col in df.columns:\n",
    "    if ((col[-3:] == '_dt')\n",
    "         or (col=='datetime') ):\n",
    "        #print(col)\n",
    "        df[col] =  pd.to_datetime(df[col], format='%Y-%m-%d', errors='ignore')\n",
    "        datefields.append(col)\n",
    "\n",
    "print(datefields)\n",
    "# pick the time axis variable, use the date fields\n",
    "#select x axis\n",
    "pickx = widgets.Dropdown(\n",
    "    options=datefields,\n",
    "    description='Date field for X axis:',\n",
    "    disabled=False,\n",
    "    value = 'Choose Field'\n",
    ")\n",
    "\n",
    "xaxisfield=''\n",
    "\n",
    "#Describe what happens when the button changes its value\n",
    "def on_change_x(change):\n",
    "    global xaxisfield\n",
    "    if change['type'] == 'change' and change['name'] == 'value':\n",
    "        #print('change: ' + str(change['new']))\n",
    "        xaxisfield=change['new']\n",
    "        print('xaxis: %s' % xaxisfield)\n",
    "    return\n",
    " "
   ]
  },
  {
   "cell_type": "code",
   "execution_count": 32,
   "metadata": {
    "collapsed": true
   },
   "outputs": [],
   "source": [
    "#what happens when the button is clicked\n",
    "def on_button1_clicked(b):\n",
    "    #clear_output()\n",
    "    #print(\"Button clicked.\")\n",
    "    #populate y values\n",
    "    print('x: %s, y:%s' % (xaxisfield, yaxisfield))\n",
    "    if (xaxisfield == '' \n",
    "        or xaxisfield == 'Choose Field'\n",
    "        or yaxisfield == ''\n",
    "        or yaxisfield == 'Choose Variable:'):\n",
    "        print('Select x and y axis variables before clicking the plot graph button')\n",
    "        return\n",
    "        \n",
    "    #print( ydata)\n",
    "    try:\n",
    "        df.dropna()\n",
    "        df.sort_values(xaxisfield, ascending=True)\n",
    "        if (yaxisfield in df.columns):\n",
    "            print('N values df column: %s' % df[yaxisfield].count() )\n",
    "            #print (df[yaxisfield])\n",
    "            xval, yval = [],[]\n",
    "            for idx, val in df[xaxisfield].iteritems():\n",
    "                if ((str(df[yaxisfield][idx]).lower()!= 'nan')\n",
    "                   and (isinstance(df[xaxisfield][idx], datetime.datetime))):\n",
    "                    xval.append(df[xaxisfield][idx])\n",
    "                    yval.append(float(df[yaxisfield][idx]))\n",
    "    \n",
    "            plt.plot(xval,yval)\n",
    "            plt.xlabel(fielddescriptions[yaxisfield]['desc'])\n",
    "            plt.title(fielddescriptions[xaxisfield]['desc'])\n",
    "        #uncomment next two rows to print values plotted\n",
    "            #for idx in range(0,len(xval)):\n",
    "            #    print('x: %s, y: %s' % (xval[idx],yval[idx]))\n",
    "        else:\n",
    "            df.iloc[0]\n",
    "            print('N values: %s' % df.loc[df['parm_cd'] == int(yaxisfield)]['result_va'].count() )\n",
    "            plt.plot(df.loc[df['parm_cd'] == int(yaxisfield)][xaxisfield],\n",
    "                     df.loc[df['parm_cd'] == int(yaxisfield)]['result_va'])\n",
    "            plt.xlabel(fielddescriptions[xaxisfield]['desc'])\n",
    "            plt.title(getmetavalue(datalist, yaxisfield))\n",
    "        #uncomment next two rows to print values plotted\n",
    "            #for idx in range(0,len(xval)):\n",
    "            #    print('x: %s, y: %s' % (xval[idx],yval[idx])\n",
    "\n",
    "        \n",
    "    except ValueError:\n",
    "        print('The column contains a Non-Integer Value! Nothing Can be Displayed!')\n",
    "    \n",
    "    return\n",
    "\n",
    "def on_button2_clicked(b):\n",
    "    clear_output()\n",
    "    display(pickx)\n",
    "    display(picky)\n",
    "    display(button1)\n",
    "    display(button2)\n",
    "    return"
   ]
  },
  {
   "cell_type": "code",
   "execution_count": 33,
   "metadata": {},
   "outputs": [
    {
     "data": {
      "application/vnd.jupyter.widget-view+json": {
       "model_id": "86d00975d05945508d908dc56dfc5321",
       "version_major": 2,
       "version_minor": 0
      },
      "text/plain": [
       "Dropdown(description='Date field for X axis:', index=1, options=('Choose Field', 'sample_dt', 'sample_end_dt')…"
      ]
     },
     "metadata": {},
     "output_type": "display_data"
    },
    {
     "data": {
      "application/vnd.jupyter.widget-view+json": {
       "model_id": "11ff78ca22fa4482beae68fe68bfbf9f",
       "version_major": 2,
       "version_minor": 0
      },
      "text/plain": [
       "Dropdown(description='Numeric field:', index=6, options=('Choose Variable:', 'site_no| - USGS site number. N=4…"
      ]
     },
     "metadata": {},
     "output_type": "display_data"
    },
    {
     "data": {
      "application/vnd.jupyter.widget-view+json": {
       "model_id": "85370b2833f5498295b222aca944bc40",
       "version_major": 2,
       "version_minor": 0
      },
      "text/plain": [
       "Button(description='Plot Time Series', style=ButtonStyle())"
      ]
     },
     "metadata": {},
     "output_type": "display_data"
    },
    {
     "data": {
      "application/vnd.jupyter.widget-view+json": {
       "model_id": "fa95d809efe14b0da8ae539c17ca6f19",
       "version_major": 2,
       "version_minor": 0
      },
      "text/plain": [
       "Button(description='Clear Display', style=ButtonStyle())"
      ]
     },
     "metadata": {},
     "output_type": "display_data"
    },
    {
     "name": "stdout",
     "output_type": "stream",
     "text": [
      "x: sample_dt, y:70331\n",
      "N values: 50\n"
     ]
    },
    {
     "data": {
      "image/png": "[encoded data removed]",
      "text/plain": [
       "<Figure size 432x288 with 1 Axes>"
      ]
     },
     "metadata": {},
     "output_type": "display_data"
    }
   ],
   "source": [
    "if len(datefields)>1 and df.size > 0:\n",
    "    pickx.observe(on_change_x)\n",
    "    display(pickx)\n",
    "    picky.observe(on_change_y)\n",
    "    display(picky)\n",
    "    \n",
    "    button1 = widgets.Button(description=\"Plot Time Series\")\n",
    "    button1.on_click(on_button1_clicked)\n",
    "    display(button1)\n",
    "\n",
    "    button2 = widgets.Button(description=\"Clear Display\")\n",
    "    button2.on_click(on_button2_clicked)\n",
    "    display(button2)\n",
    "else:\n",
    "    if (len(datefields) <= 1):\n",
    "        print('There are no date fields in this dataset \\n Can not plot a time series')\n",
    "    elif (df.size==0):\n",
    "        print('There is nothing to plot')\n",
    "    else:\n",
    "        print('Can not generate a plot')\n"
   ]
  },
  {
   "cell_type": "code",
   "execution_count": null,
   "metadata": {
    "collapsed": true
   },
   "outputs": [],
   "source": []
  }
 ],
 "metadata": {
  "kernelspec": {
   "display_name": "Python [conda env:py36]",
   "language": "python",
   "name": "conda-env-py36-py"
  },
  "language_info": {
   "codemirror_mode": {
    "name": "ipython",
    "version": 3
   },
   "file_extension": ".py",
   "mimetype": "text/x-python",
   "name": "python",
   "nbconvert_exporter": "python",
   "pygments_lexer": "ipython3",
   "version": "3.6.5"
  },
  "toc": {
   "base_numbering": 1,
   "nav_menu": {},
   "number_sections": true,
   "sideBar": true,
   "skip_h1_title": false,
   "title_cell": "Table of Contents",
   "title_sidebar": "Contents",
   "toc_cell": false,
   "toc_position": {},
   "toc_section_display": true,
   "toc_window_display": false
  }
 },
 "nbformat": 4,
 "nbformat_minor": 2
}

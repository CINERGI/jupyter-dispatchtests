{
 "cells": [
  {
   "cell_type": "markdown",
   "metadata": {},
   "source": [
    "# Process OGC Web Feature Service\n",
    "\n",
    "This notebook uses an endpoint URL, passed either as an 'endpoint' parameter when the notebook is called, or assigned in cell 5.\n",
    "\n"
   ]
  },
  {
   "cell_type": "code",
   "execution_count": 1,
   "metadata": {},
   "outputs": [],
   "source": [
    "#for some reason the env variable is not getting set when the book is first opened, have to set manually\n",
    "#WFS driver doesn't work\n",
    "!set GDAL_DATA=E:\\EPrograms\\Anaconda\\envs\\py36\\Library\\share\\gdal\n",
    "#!set GDAL_DATA\n"
   ]
  },
  {
   "cell_type": "code",
   "execution_count": 2,
   "metadata": {},
   "outputs": [
    {
     "data": {
      "application/javascript": [
       "//check if there is an endpoint parameter in the notebook call\n",
       "\n",
       "function getQueryStringValue (key)\n",
       "{  \n",
       "    return unescape(window.location.search.replace(new RegExp(\"^(?:.*[&\\\\?]\" + escape(key).replace(/[\\.\\+\\*]/g, \"\\\\$&\") + \"(?:\\\\=([^&]*))?)?.*$\", \"i\"), \"$1\"));\n",
       "}\n",
       "IPython.notebook.kernel.execute(\"endpoint='\".concat(getQueryStringValue(\"endpoint\")).concat(\"'\"));\n",
       "IPython.notebook.kernel.execute(\"full_notebook_url='\" + window.location + \"'\"); "
      ],
      "text/plain": [
       "<IPython.core.display.Javascript object>"
      ]
     },
     "metadata": {},
     "output_type": "display_data"
    }
   ],
   "source": [
    "%%javascript\n",
    "//check if there is an endpoint parameter in the notebook call\n",
    "\n",
    "function getQueryStringValue (key)\n",
    "{  \n",
    "    return unescape(window.location.search.replace(new RegExp(\"^(?:.*[&\\\\?]\" + escape(key).replace(/[\\.\\+\\*]/g, \"\\\\$&\") + \"(?:\\\\=([^&]*))?)?.*$\", \"i\"), \"$1\"));\n",
    "}\n",
    "IPython.notebook.kernel.execute(\"endpoint='\".concat(getQueryStringValue(\"endpoint\")).concat(\"'\"));\n",
    "IPython.notebook.kernel.execute(\"full_notebook_url='\" + window.location + \"'\"); "
   ]
  },
  {
   "cell_type": "code",
   "execution_count": 3,
   "metadata": {},
   "outputs": [
    {
     "ename": "SystemExit",
     "evalue": "ERROR: cannot find GDAL/OGR modules",
     "output_type": "error",
     "traceback": [
      "An exception has occurred, use %tb to see the full traceback.\n",
      "\u001b[1;31mSystemExit\u001b[0m\u001b[1;31m:\u001b[0m ERROR: cannot find GDAL/OGR modules\n"
     ]
    },
    {
     "name": "stderr",
     "output_type": "stream",
     "text": [
      "E:\\EPrograms\\Anaconda\\lib\\site-packages\\IPython\\core\\interactiveshell.py:2889: UserWarning: To exit: use 'exit', 'quit', or Ctrl-D.\n",
      "  warn(\"To exit: use 'exit', 'quit', or Ctrl-D.\", stacklevel=1)\n"
     ]
    }
   ],
   "source": [
    "import sys\n",
    "try:\n",
    "    from osgeo import ogr, gdal\n",
    "except:\n",
    "    sys.exit('ERROR: cannot find GDAL/OGR modules')\n",
    "    \n",
    "from ipywidgets import interact\n",
    "\n",
    "import requests\n",
    "import json\n",
    "from pandas.io.json import json_normalize\n",
    "maxfeatures=50000\n",
    "\n",
    "#import numpy as np\n",
    "#import pandas as pd\n",
    "#import xmltodict\n",
    "#from ipywidgets import interactive, fixed, interact_manual\n",
    "#import ipywidgets as widgets"
   ]
  },
  {
   "cell_type": "code",
   "execution_count": null,
   "metadata": {
    "collapsed": true
   },
   "outputs": [],
   "source": [
    "def the_envelope(geom):\n",
    "    (minX, maxX, minY, maxY) = geom.GetEnvelope()\n",
    "    # calculate a bounding box geometry for the given geometry argument\n",
    "    # Create ring\n",
    "    ring = ogr.Geometry(ogr.wkbLinearRing)\n",
    "    ring.AddPoint(minX, minY)\n",
    "    ring.AddPoint(maxX, minY)\n",
    "    ring.AddPoint(maxX, maxY)\n",
    "    ring.AddPoint(minX, maxY)\n",
    "    ring.AddPoint(minX, minY)\n",
    "\n",
    "    # Create polygon\n",
    "    poly_envelope = ogr.Geometry(ogr.wkbPolygon)\n",
    "    poly_envelope.AddGeometry(ring)\n",
    "    return poly_envelope"
   ]
  },
  {
   "cell_type": "code",
   "execution_count": null,
   "metadata": {
    "collapsed": true
   },
   "outputs": [],
   "source": [
    "def testurl(theurl):\n",
    "    #try HEAD first in case the response document is big\n",
    "    r = requests.head(theurl)\n",
    "    if (r.status_code != requests.codes.ok):\n",
    "        #check GET in case is an incomplete http implementation\n",
    "        r = requests.get(theurl)\n",
    "        if (r.status_code == requests.codes.ok):\n",
    "            return True\n",
    "        else:\n",
    "            return False\n",
    "    else:\n",
    "        return True"
   ]
  },
  {
   "cell_type": "code",
   "execution_count": null,
   "metadata": {},
   "outputs": [],
   "source": [
    "url_partitioned = full_notebook_url.partition('ISOmetadata-ExtractDistributions.ipynb')\n",
    "base_url = url_partitioned[0];\n",
    "\n",
    "if(endpoint is not None and len(endpoint)>0):\n",
    "    print('Got endpoint parameter:',endpoint)\n",
    "else: \n",
    "    # some USGS ScienceBase Geoserver WFS endpoints:\n",
    "    #endpoint='https://www.sciencebase.gov/catalogMaps/mapping/ows/5342c54be4b0aa151574a8dc'\n",
    "    #endpoint='https://www.sciencebase.gov/catalogMaps/mapping/ows/5342c5fce4b0aa151574a8ed'\n",
    "    #endpoint='https://www.sciencebase.gov/catalogMaps/mapping/ows/4f4e49cfe4b07f02db5da90e'\n",
    "\n",
    "    # some NGDS end points\n",
    "    endpoint='http://services.azgs.az.gov/arcgis/services/aasggeothermal/CAaqWellChemistry/MapServer/WFSServer'\n",
    "    #endpoint='http://services.azgs.az.gov/arcgis/services/aasggeothermal/AZActiveFaults/MapServer/WFSServer'\n",
    "\n",
    "    #EarthChem\n",
    "    #endpoint='http://ecp.iedadata.org/wfs/ows?service=wfs'\n",
    "\n",
    "    #smu thermal conductivity, geoserver\n",
    "    #endpoint='http://geothermal.smu.edu:9000/geoserver/aasg-thermalconductivity/ows'\n",
    "\n",
    "    #NOAA Watch/warning polygons\n",
    "    #endpoint = 'https://idpgis.ncep.noaa.gov/arcgis/services/NWS_Forecasts_Guidance_Warnings/watch_warn_adv/MapServer/WFSServer'\n",
    "    print('Assign endpoint:', endpoint)\n",
    "# limit the number of features that will be processed\n"
   ]
  },
  {
   "cell_type": "code",
   "execution_count": null,
   "metadata": {},
   "outputs": [],
   "source": [
    "# see https://pcjericks.github.io/py-gdalogr-cookbook/vector_layers.html \n",
    "# for documentation on ogr usage\n",
    "## org driver available?\n",
    "driverName = \"WFS\"\n",
    "wfs_drv = ogr.GetDriverByName(driverName)\n",
    "\n",
    "if wfs_drv is None:\n",
    "    print (\"%s driver not available.\\n\" % driverName)\n",
    "else:\n",
    "    print  (\"%s driver IS available.\\n\" % wfs_drv.name)"
   ]
  },
  {
   "cell_type": "code",
   "execution_count": null,
   "metadata": {
    "collapsed": true
   },
   "outputs": [],
   "source": [
    "# !set GDAL_DATA=E:\\EPrograms\\Anaconda\\Library\\share\\gdal\n",
    "# !set GDAL_DATA\n"
   ]
  },
  {
   "cell_type": "code",
   "execution_count": null,
   "metadata": {},
   "outputs": [],
   "source": [
    "# Speeds up querying WFS capabilities for services with alot of layers\n",
    "gdal.SetConfigOption('OGR_WFS_LOAD_MULTIPLE_LAYER_DEFN', 'NO')\n",
    "\n",
    "# Set config for paging. Works on WFS 2.0 services and WFS 1.0 and 1.1 with some other services.\n",
    "gdal.SetConfigOption('OGR_WFS_PAGING_ALLOWED', 'YES')\n",
    "gdal.SetConfigOption('OGR_WFS_PAGE_SIZE', '10000')\n",
    "\n",
    "\n",
    "#test that service is up with getcapabilities request\n",
    "\n",
    "capurl=endpoint + '?service=wfs&request=getCapabilities'\n",
    "\n",
    "if testurl(capurl):\n",
    "    # Open the webservice--check if responds to getCapabilities\n",
    "    wfs_ds = wfs_drv.Open('WFS:' + endpoint)\n",
    "    #wfs_ds = wfs_drv.Open(\"WFS:http://services.azgs.az.gov/arcgis/services/aasggeothermal/CAaqWellChemistry/MapServer/WFSServer\")\n",
    "    #wfs_ds = wfs_drv.Open(endpoint + '?service=wfs&request=getCapabilities&version=1.1.0')\n",
    "    if wfs_ds is None:\n",
    "        print('ERROR: ogr driver cannot open WFS datasource')\n",
    "else:\n",
    "    print('ERROR: service not responding')\n"
   ]
  },
  {
   "cell_type": "code",
   "execution_count": null,
   "metadata": {},
   "outputs": [],
   "source": [
    "capurl\n",
    "# ogrinfo -ro WFS:http://www2.dmsolutions.ca/cgi-bin/mswfs_gmap\n"
   ]
  },
  {
   "cell_type": "code",
   "execution_count": null,
   "metadata": {},
   "outputs": [],
   "source": [
    "# iterate over available layers\n",
    "for i in range(wfs_ds.GetLayerCount()):\n",
    "    layer = wfs_ds.GetLayerByIndex(i)\n",
    "    srs = layer.GetSpatialRef()\n",
    "    print ('Layer: %s, Features: %s, SR: %s...' % (layer.GetName(), layer.GetFeatureCount(), srs.ExportToWkt()[0:50]))\n",
    "\n",
    "    # iterate over features\n",
    "    #fcount = 1\n",
    "    #feat = layer.GetNextFeature()\n",
    "    #while feat is not None:\n",
    "    #    feat = layer.GetNextFeature()\n",
    "    #    fcount = fcount + 1\n",
    "        # do something more..\n",
    "    #feat = None\n",
    "    print ('feature count: ',layer.GetFeatureCount())"
   ]
  },
  {
   "cell_type": "markdown",
   "metadata": {},
   "source": [
    "#gdal call to get the capabilities document\n",
    "caps=wfs_ds.GetLayerByName('WFSGetCapabilities')\n",
    "#print the number of feature types reported in the capabilities document\n",
    "print(caps.GetFeatureCount())\n",
    "\n",
    "for feat in caps:\n",
    "    jsonwrap= json.loads(feat.ExportToJson())\n",
    "    \n",
    "capsxml=jsonwrap['properties']['content']\n",
    "capsjson=xmltodict.parse(capsxml)\n",
    "capsjson=json.dumps(capsjson, indent=2)\n",
    "#print(capsjson)"
   ]
  },
  {
   "cell_type": "markdown",
   "metadata": {},
   "source": [
    "Want to let user pick the layer to work with."
   ]
  },
  {
   "cell_type": "code",
   "execution_count": null,
   "metadata": {
    "collapsed": true
   },
   "outputs": [],
   "source": [
    "\n",
    "feat_list={}\n",
    "for i in range(wfs_ds.GetLayerCount()):\n",
    "    layer = wfs_ds.GetLayerByIndex(i)\n",
    "    feat_list[layer.GetName()] = layer.GetName()\n",
    "\n",
    "\n",
    "def f(feat_menu):\n",
    "    return feat_menu\n",
    "# out = interact(f, feat_menu=nb_menu);\n",
    "out = interact(f, feat_menu=feat_list.keys());\n",
    "\n",
    "#print(\"interact out: \", out)"
   ]
  },
  {
   "cell_type": "code",
   "execution_count": null,
   "metadata": {
    "collapsed": true
   },
   "outputs": [],
   "source": [
    "# Get a specific layer\n",
    "\n",
    "chosenlayer= feat_list[out.widget.result]\n",
    "if len(chosenlayer)==0:\n",
    "    chosenlayer=wfs_ds.GetLayerByIndex(1).GetName()\n",
    "\n",
    "layer = wfs_ds.GetLayerByName(chosenlayer)\n",
    "\n",
    "print('chosen layer:',chosenlayer)\n",
    "\n",
    "if not layer:\n",
    "    sys.exit('ERROR: can not find layer in service')\n",
    "else:\n",
    "    pass"
   ]
  },
  {
   "cell_type": "code",
   "execution_count": null,
   "metadata": {
    "collapsed": true
   },
   "outputs": [],
   "source": [
    "layer.GetFeatureCount()"
   ]
  },
  {
   "cell_type": "code",
   "execution_count": null,
   "metadata": {
    "collapsed": true
   },
   "outputs": [],
   "source": [
    "%%time\n",
    "count = 0\n",
    "tdata = []\n",
    "\n",
    "geometries=[]\n",
    "if (layer.GetFeatureCount()>0):\n",
    "    feat=layer.GetFeature(1)\n",
    "#    print(feat)\n",
    "\n",
    "    for feat in layer:\n",
    "        thisgeom = feat.geometry().GetGeometryName()\n",
    "\n",
    "        if (thisgeom not in geometries):\n",
    "            geometries.append(thisgeom)\n",
    "        #ExportToJson doesn't work with some geometries (e.g .MULTISURFACE(??), \n",
    "        # in that case, replace with bounding box     \n",
    "        try:\n",
    "            temp=feat.ExportToJson()\n",
    "        except:\n",
    "            msenvelope=the_envelope( feat.geometry())\n",
    "            #print('BoundingBox: %s' % msenvelope)\n",
    "            thenote = 'Replace '+ thisgeom + ' with bounding box'\n",
    "            if (thenote not in geometries):\n",
    "                geometries.append(thenote)\n",
    "            feat.SetGeometry(msenvelope)\n",
    "        tdata.append(json.loads(feat.ExportToJson()))\n",
    "        #feat = layer.GetNextFeature()\n",
    "        count = count + 1\n",
    "        #avoid getting hung on very long responses, maxsfeatures set in imports cell at top of notebook\n",
    "        if count > maxfeatures:\n",
    "            break\n",
    "feat = None\n",
    "print (geometries)\n",
    "\n",
    "#print (tdata)\n",
    "dataframe=json_normalize(tdata)\n",
    "print('Dataframe size:',dataframe.size)\n",
    "\n",
    "#dataframe\n",
    "print('done timed cell, %s features in result set' % count)"
   ]
  },
  {
   "cell_type": "markdown",
   "metadata": {},
   "source": [
    "Problem with json_normalize:  \n",
    "This appears to be a bug in the latest version of pandas: https://github.com/pandas-dev/pandas/issues/21158\n",
    "Running pandas '0.23.0', error arises due to condition case when null value occurs on the nesting level greater than 0. It seems to have been changed around two months ago that seems to have made it's way into 0.23.0 release two weeks ago:\n",
    "\n",
    "https://github.com/pandas-dev/pandas/commit/01882ba5b4c21b0caf2e6b9279fb01967aa5d650#diff-9c654764f5f21c8e9d58d9ebf14de86d\n",
    "\n",
    "When I use python verion 3.6.3 :: Anaconda Inc. and pandas version 0.20.3 I do not see this issue and json_normalize is able to work properly. \n",
    "\n",
    "2018-06-28 SMR rolled pandas back to 0.20.3 in the py36 kernel env.\n"
   ]
  },
  {
   "cell_type": "markdown",
   "metadata": {},
   "source": [
    "Now get a list of the attributes of the feature type"
   ]
  },
  {
   "cell_type": "markdown",
   "metadata": {},
   "source": [
    "    #example function to get field definitions from gdal\n",
    "    #these are more informative than the pandas dataframe definitions\n",
    "    lyrDefn = layer.GetLayerDefn()\n",
    "    for i in range( lyrDefn.GetFieldCount() ):\n",
    "        fieldName =  lyrDefn.GetFieldDefn(i).GetName()\n",
    "        fieldTypeCode = lyrDefn.GetFieldDefn(i).GetType()\n",
    "        fieldType = lyrDefn.GetFieldDefn(i).GetFieldTypeName(fieldTypeCode)\n",
    "        fieldWidth = lyrDefn.GetFieldDefn(i).GetWidth()\n",
    "        GetPrecision = lyrDefn.GetFieldDefn(i).GetPrecision()\n",
    "\n",
    "        print (fieldName + \" - \" + fieldType+ \" \" + str(fieldWidth) + \" \" + str(GetPrecision))"
   ]
  },
  {
   "cell_type": "markdown",
   "metadata": {},
   "source": [
    "Do some data summarization with pandas"
   ]
  },
  {
   "cell_type": "markdown",
   "metadata": {},
   "source": [
    "#easy pandas way to get the field types\n",
    "#dataframe.dtypes"
   ]
  },
  {
   "cell_type": "code",
   "execution_count": null,
   "metadata": {
    "collapsed": true
   },
   "outputs": [],
   "source": [
    "#for value in dataframe['properties.K_mgL']:\n",
    "#    if value != None:\n",
    "#        print (value)\n",
    "lyrDefn = layer.GetLayerDefn()\n",
    "\n",
    "for col in dataframe.columns:\n",
    "    if (col.find('.')>-1):\n",
    "        field=str(col.split('.')[1])\n",
    "        #print('col: %s, field: %s' % (col, field))\n",
    "        fielddef = lyrDefn.GetFieldDefn(lyrDefn.GetFieldIndex(field))\n",
    "        if (fielddef is not None):\n",
    "            fieldTypeCode = fielddef.GetType()\n",
    "            fieldType = fielddef.GetFieldTypeName(fieldTypeCode)\n",
    "            fieldWidth = fielddef.GetWidth()\n",
    "            GetPrecision = fielddef.GetPrecision()       \n",
    "            print (field + \" - \" + fieldType+ \" \" + str(fieldWidth) + \" \" + str(GetPrecision))\n",
    "        else:\n",
    "            print(field + ' has no ogr definition')\n",
    "\n",
    "            \n",
    "def findfieldtype(pcol):\n",
    "    if (pcol.find('.')>-1):\n",
    "        field=str(pcol.split('.')[1])\n",
    "    else:\n",
    "        field=str(pcol)\n",
    "    fielddef = lyrDefn.GetFieldDefn(lyrDefn.GetFieldIndex(field))\n",
    "    if (fielddef is not None):\n",
    "        thetype= fielddef.GetFieldTypeName(fielddef.GetType())\n",
    "    else:\n",
    "        thetype='xxxx'\n",
    "    return thetype"
   ]
  },
  {
   "cell_type": "code",
   "execution_count": null,
   "metadata": {
    "collapsed": true,
    "scrolled": false
   },
   "outputs": [],
   "source": [
    "print('%s features analyzed.' % len(dataframe.index))\n",
    "\n",
    "print('Geometres found: %s' % geometries)\n",
    "\n",
    "for col in dataframe.columns:\n",
    "    #print(col)\n",
    "    if (col.find('.')>-1):\n",
    "        colname=str(col.split('.')[1])\n",
    "    else:\n",
    "        colname=str(col)\n",
    "        \n",
    "    if (dataframe[col].count() > 0) and  (dataframe[col].dtype=='float64'):\n",
    "        mean=dataframe[col].mean()\n",
    "        max=dataframe[col].max()\n",
    "        min=dataframe[col].min()\n",
    "        print('field:%s, count:%s, mean:%s; max:%s; min:%s \\n' \n",
    "              % (colname, dataframe[col].count(), \"{:.2f}\".format(mean), \n",
    "                 \"{:.2f}\".format(max), \"{:.2f}\".format(min)))\n",
    "    \n",
    "    if (dataframe[col].count() > 0) and  (findfieldtype(col).find('Integer')>-1):\n",
    "        max=dataframe[col].max()\n",
    "        min=dataframe[col].min()\n",
    "        print('field:%s, count:%s: max:%s; min:%s \\n' \n",
    "              % (colname, dataframe[col].count(),  \n",
    "                 \"{:.2f}\".format(max), \"{:.2f}\".format(min)))\n",
    "    \n",
    "    if (dataframe[col].count() > 0) and  (findfieldtype(col)=='String'):\n",
    "        # and  (type(dataframe[col][1])=='str')\n",
    "        #for item in dataframe[col].unique():\n",
    "        #    print (item)\n",
    "        #print (type(dataframe[col][1]))\n",
    "        if len(dataframe.index)==len(dataframe[col].unique()):\n",
    "            print(colname + ' is a text field, all values are unique')\n",
    "\n",
    "        elif (len(dataframe[col].unique()) > 50):\n",
    "            print(colname + ' appears to be a free text field, there are ' + str(len(dataframe[col].unique())) + ' unique values.' )\n",
    "\n",
    "        else:\n",
    "            print (colname +' has '+ str(len(dataframe[col].unique())) + ' unique values.') \n",
    "            print(dataframe[col].value_counts())\n",
    "            \n",
    "        print('\\n')\n",
    " \n",
    "emptyfields = []\n",
    "print('\\nThe following fields contain no data:')\n",
    "for col in dataframe.columns:            \n",
    "    if (dataframe[col].count() == 0):\n",
    "        emptyfields.append(str(col.split('.')[1]))       \n",
    "print(emptyfields)\n",
    "        "
   ]
  },
  {
   "cell_type": "code",
   "execution_count": null,
   "metadata": {
    "collapsed": true
   },
   "outputs": [],
   "source": [
    " dataframe.describe()\n"
   ]
  },
  {
   "cell_type": "code",
   "execution_count": null,
   "metadata": {
    "collapsed": true
   },
   "outputs": [],
   "source": []
  }
 ],
 "metadata": {
  "kernelspec": {
   "display_name": "Python [default]",
   "language": "python",
   "name": "python2"
  },
  "language_info": {
   "codemirror_mode": {
    "name": "ipython",
    "version": 2
   },
   "file_extension": ".py",
   "mimetype": "text/x-python",
   "name": "python",
   "nbconvert_exporter": "python",
   "pygments_lexer": "ipython2",
   "version": "2.7.13"
  },
  "toc": {
   "base_numbering": 1,
   "nav_menu": {},
   "number_sections": true,
   "sideBar": true,
   "skip_h1_title": false,
   "title_cell": "Table of Contents",
   "title_sidebar": "Contents",
   "toc_cell": false,
   "toc_position": {},
   "toc_section_display": true,
   "toc_window_display": false
  }
 },
 "nbformat": 4,
 "nbformat_minor": 2
}

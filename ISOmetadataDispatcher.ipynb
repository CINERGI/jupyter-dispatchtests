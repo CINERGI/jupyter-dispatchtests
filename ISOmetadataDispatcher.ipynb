{
 "cells": [
  {
   "cell_type": "markdown",
   "metadata": {},
   "source": [
    "# Extract Distribution information from ISO 19139 metadata\n",
    "\n",
    "S.M. Richard 2018-08-03\n",
    "\n",
    "This notebook is opened with a documentID used to pull an ISO XML record from the CINERGI catalog;\n",
    "The record is parsed to extract distribution information and generate a dispatchList object\n",
    "\n",
    "The plan is for the dispatch list object to get passed to a dispatcher (and maybe stored with the metadata record for use by other dispatchers. The dispatcher would accesses a mapping resource that associates endpoint applications and application profiles in the dispatchList.\n",
    "\n",
    "Currently the dispatch list is a JSON array of objects. e.g. : ``` {\"profile\":\"nwis_rdb\", \"url\":theURL, \"label\":thename } ```\n",
    "\n",
    "###  profile\n",
    "\n",
    "(ideally) should be a registered URI that characterizes the protocol and interchange formats that are used to access a service.  Current demo vocabulary includes:\n",
    "* nwis_rdb -- service implements http access that serves NWIS text documents following the rdb format; TBD: think about differentiating various NWIS services. \n",
    "  * uv -- current data \n",
    "  * gwlevels -- groundwater levels\n",
    "  * peak -- peak stream flow at gage\n",
    "  * inventory -- site information. No time series information, but useful for location information\n",
    "  * measurements -- streamflow data for site; https://help.waterdata.usgs.gov/output-formats#streamflow_measurement_data. data files do not include the variable names in header\n",
    "* wfsclient -- service that implements OGC WFS simple feature profile on http. should work with any version of WFS (1.0.0, 1.1.0, 2.0). TBD: specializations based on feature types offered; handle complex features\n",
    "* webbrowser -- service implements http and can display html documents. TBD -- extend to include any kind of document that standard web browser can display (.tif, .jpg,....)\n",
    "* ndbc_txt -- National Data Bouy Center tab delimited text files in rdb format\n",
    "\n",
    "### url\n",
    "The URL that is expected under the profile for a client to access a specific resource\n",
    "\n",
    "### label\n",
    "A text string to display in user interfaces to label links to access the application with the selected data."
   ]
  },
  {
   "cell_type": "code",
   "execution_count": 5,
   "metadata": {
    "collapsed": true
   },
   "outputs": [],
   "source": [
    "# package dependency imports\n",
    "\n",
    "import requests\n",
    "from lxml import etree  #supposed to be better than xml.etree\n",
    "#from ipywidgets import interact, interactive, fixed, interact_manual\n",
    "import ipywidgets as widgets\n",
    "from tqdm import tqdm\n",
    "from IPython.display import clear_output\n",
    "\n",
    "#import xmltodict\n",
    "#import json\n",
    "#from io import StringIO,BytesIO"
   ]
  },
  {
   "cell_type": "code",
   "execution_count": 6,
   "metadata": {},
   "outputs": [
    {
     "data": {
      "application/javascript": [
       "function getQueryStringValue (key)\n",
       "{  \n",
       "    return unescape(window.location.search.replace(new RegExp(\"^(?:.*[&\\\\?]\" + escape(key).replace(/[\\.\\+\\*]/g, \"\\\\$&\") + \"(?:\\\\=([^&]*))?)?.*$\", \"i\"), \"$1\"));\n",
       "}\n",
       "IPython.notebook.kernel.execute(\"documentID='\".concat(getQueryStringValue(\"documentId\")).concat(\"'\"));\n",
       "IPython.notebook.kernel.execute(\"user='\".concat(getQueryStringValue(\"user\")).concat(\"'\"));\n",
       "IPython.notebook.kernel.execute(\"full_notebook_url='\" + window.location + \"'\"); "
      ],
      "text/plain": [
       "<IPython.core.display.Javascript object>"
      ]
     },
     "metadata": {},
     "output_type": "display_data"
    }
   ],
   "source": [
    "%%javascript\n",
    "function getQueryStringValue (key)\n",
    "{  \n",
    "    return unescape(window.location.search.replace(new RegExp(\"^(?:.*[&\\\\?]\" + escape(key).replace(/[\\.\\+\\*]/g, \"\\\\$&\") + \"(?:\\\\=([^&]*))?)?.*$\", \"i\"), \"$1\"));\n",
    "}\n",
    "IPython.notebook.kernel.execute(\"documentID='\".concat(getQueryStringValue(\"documentId\")).concat(\"'\"));\n",
    "IPython.notebook.kernel.execute(\"user='\".concat(getQueryStringValue(\"user\")).concat(\"'\"));\n",
    "IPython.notebook.kernel.execute(\"full_notebook_url='\" + window.location + \"'\"); "
   ]
  },
  {
   "cell_type": "code",
   "execution_count": 7,
   "metadata": {
    "collapsed": true
   },
   "outputs": [],
   "source": [
    "def testurl(theurl):\n",
    "    #try HEAD first in case the response document is big\n",
    "\n",
    "    try:\n",
    "        r = requests.head(theurl)\n",
    "        if (r.status_code != requests.codes.ok):\n",
    "            #check GET in case is an incomplete http implementation\n",
    "            r = requests.get(theurl)\n",
    "            if (r.status_code == requests.codes.ok):\n",
    "                return True\n",
    "            else:\n",
    "                return False\n",
    "        else:\n",
    "            return True\n",
    "    except:\n",
    "        return False\n"
   ]
  },
  {
   "cell_type": "code",
   "execution_count": 8,
   "metadata": {},
   "outputs": [],
   "source": [
    "# use hardwired values for testing\n",
    "catalogURL = \"http://cinergi.sdsc.edu/geoportal/\"\n",
    "if (len(documentID)==0):\n",
    "    #documentID=\"e3619c5df2644204b67f51f48525a0b1\"    #NGDS wfs\n",
    "    #documentID=\"4db8156abb6d4119aa5c35aa39514b42\"   #sciencebase WFS\n",
    "    #documentID=\"61cc7f6afb5246d2be41811e94a1a8ea\"   #ndbc data\n",
    "    documentID=\"b20f8f12ef594520abb0e5efbcd891fe\"   #nwis qwdata\n",
    "    "
   ]
  },
  {
   "cell_type": "code",
   "execution_count": 9,
   "metadata": {},
   "outputs": [
    {
     "name": "stdout",
     "output_type": "stream",
     "text": [
      "User:  \n",
      "DocumentID:  b20f8f12ef594520abb0e5efbcd891fe\n",
      "full notebook url partition ('http://localhost:8889/notebooks/DispatchTesting/', 'ISOmetadataDispatcher.ipynb', '')\n",
      "full notebook url http://localhost:8889/notebooks/DispatchTesting/ISOmetadataDispatcher.ipynb\n"
     ]
    }
   ],
   "source": [
    "url_partitioned = full_notebook_url.partition('ISOmetadataDispatcher.ipynb')\n",
    "base_url = url_partitioned[0];\n",
    "\n",
    "print(\"User: \",user)\n",
    "print(\"DocumentID: \", documentID)\n",
    "print(\"full notebook url partition\", url_partitioned)\n",
    "print(\"full notebook url\", full_notebook_url)"
   ]
  },
  {
   "cell_type": "code",
   "execution_count": 10,
   "metadata": {},
   "outputs": [
    {
     "name": "stdout",
     "output_type": "stream",
     "text": [
      "metadata URL:  http://cinergi.sdsc.edu/geoportal/rest/metadata/item/b20f8f12ef594520abb0e5efbcd891fe/xml\n"
     ]
    }
   ],
   "source": [
    "\n",
    "\n",
    "#get the url to retrieve xml record from catalog\n",
    "metadataURLx=catalogURL + 'rest/metadata/item/' + documentID + '/xml'\n",
    "\n",
    "print (\"metadata URL: \", metadataURLx)\n",
    "\n",
    "#get the xml record\n",
    "the_page = requests.get(metadataURLx)\n"
   ]
  },
  {
   "cell_type": "code",
   "execution_count": 11,
   "metadata": {
    "collapsed": true
   },
   "outputs": [],
   "source": [
    "# use this to generate JSON representation of the metadata record\n",
    "#the_isojson = json.loads(json.dumps(xmltodict.parse(the_page.text)))\n",
    "\n",
    "#print(the_isojson.keys())\n",
    "#print(the_isojson[\"gmi:MI_Metadata\"])"
   ]
  },
  {
   "cell_type": "code",
   "execution_count": 12,
   "metadata": {
    "collapsed": true
   },
   "outputs": [],
   "source": [
    "#set up namespace map for ISO metadata\n",
    "NSMAP = {\"gmi\":\"http://www.isotc211.org/2005/gmi\" ,\n",
    "    \"gco\":\"http://www.isotc211.org/2005/gco\" ,\n",
    "    \"gmd\":\"http://www.isotc211.org/2005/gmd\" ,\n",
    "    \"gml\":\"http://www.opengis.net/gml\" ,\n",
    "    \"gmx\":\"http://www.isotc211.org/2005/gmx\" ,\n",
    "    \"gts\":\"http://www.isotc211.org/2005/gts\" ,\n",
    "    \"srv\":\"http://www.isotc211.org/2005/srv\" ,\n",
    "    \"xlink\":\"http://www.w3.org/1999/xlink\"}"
   ]
  },
  {
   "cell_type": "code",
   "execution_count": 13,
   "metadata": {},
   "outputs": [
    {
     "name": "stdout",
     "output_type": "stream",
     "text": [
      "1.0\n"
     ]
    }
   ],
   "source": [
    "#root = etree.fromstring(the_page.text)\n",
    "\n",
    "#tree is an element tree\n",
    "tree = etree.parse(metadataURLx)\n",
    "#root = etree.tostring(tree.getroot())\n",
    "root = tree.getroot()\n",
    "docinfo = tree.docinfo\n",
    "print(docinfo.xml_version)\n",
    "#print(tree.findall(\"//gmd:MD_DigitalTransferOptions\",namespaces=NSMAP))\n",
    "\n"
   ]
  },
  {
   "cell_type": "code",
   "execution_count": 14,
   "metadata": {},
   "outputs": [
    {
     "name": "stdout",
     "output_type": "stream",
     "text": [
      "\n",
      " Distribution: name-;\n",
      "  url- https://nwis.waterdata.usgs.gov/usa/nwis/qwdata/?site_no=07374000&agency_cd=USGS&inventory_output=0&rdb_inventory_output=file&TZoutput=0&pm_cd_compare=Greater%20than&radio_parm_cds=all_parm_cds&qw_attributes=0&format=rdb&qw_sample_wide=wide&rdb_qw_attributes=0&date_format=YYYY-MM-DD&rdb_compression=value&submitted_form=brief_list; \n",
      "  description--; \n",
      "   protocol-, app profile- ; function- ; \n",
      "Dispatch List: [{'profile': 'nwis_rdb', 'url': 'https://nwis.waterdata.usgs.gov/usa/nwis/qwdata/?site_no=07374000&agency_cd=USGS&inventory_output=0&rdb_inventory_output=file&TZoutput=0&pm_cd_compare=Greater%20than&radio_parm_cds=all_parm_cds&qw_attributes=0&format=rdb&qw_sample_wide=wide&rdb_qw_attributes=0&date_format=YYYY-MM-DD&rdb_compression=value&submitted_form=brief_list', 'label': ''}]\n"
     ]
    }
   ],
   "source": [
    "#iterate through digital transfer options and set up dispatch object\n",
    "# dispatch list is a list of 'options' consisting of \n",
    "# {an application profile (string, from EC resource registry) that the disptcher will use to identify target notebooks, \n",
    "#   the URL for the information resource input to the target for that profile}\n",
    "# e.g. dispatchlist = [{\"profile\":\"profile1\",\"url\":\"url1\"}, {\"profile\":\"profile2\",\"url\":\"url2\"}]\n",
    "\n",
    "dispatchlist = []\n",
    "\n",
    "for  elt in tree.getiterator(\"{http://www.isotc211.org/2005/gmd}MD_DigitalTransferOptions\"):\n",
    "    # only want OnlineResources that are in distribution//MD_DigitalTransferOptions\n",
    "    #  TBD-- figure out what to do with CI_OnlineResource inside SV_OperationMetadata\n",
    "    #print elt.text\n",
    "#iterate through CI_OnlineResource elements\n",
    "    for onlineres in elt.getiterator(\"{http://www.isotc211.org/2005/gmd}CI_OnlineResource\"):\n",
    "        if (onlineres.find(\"gmd:linkage/gmd:URL\",namespaces=NSMAP) is not None):\n",
    "            theURL=onlineres.find(\"gmd:linkage/gmd:URL\",namespaces=NSMAP).text\n",
    "        else:\n",
    "            continue #don't bother if there's no URL!\n",
    "        \n",
    "        if (onlineres.find(\"gmd:name/gco:CharacterString\",namespaces=NSMAP) is not None):\n",
    "            thename=onlineres.find(\"gmd:name/gco:CharacterString\",namespaces=NSMAP).text\n",
    "        else:\n",
    "            thename=''\n",
    "        \n",
    "        if (onlineres.find(\"gmd:description/gco:CharacterString\",namespaces=NSMAP) is not None):\n",
    "            thedescription=onlineres.find(\"gmd:description/gco:CharacterString\",namespaces=NSMAP).text\n",
    "        else:\n",
    "            thedescription=''\n",
    "            \n",
    "        if (onlineres.find(\"gmd:protocol/gco:CharacterString\",namespaces=NSMAP) is not None):\n",
    "            theprotocol=onlineres.find(\"gmd:protocol/gco:CharacterString\",namespaces=NSMAP).text\n",
    "        else:\n",
    "            theprotocol=''\n",
    "        \n",
    "        if (onlineres.find(\"gmd:applicationProfile/gco:CharacterString\",namespaces=NSMAP) is not None):\n",
    "            theappprofile=onlineres.find(\"gmd:applicationProfile/gco:CharacterString\",namespaces=NSMAP).text\n",
    "        else:\n",
    "            theappprofile=''\n",
    "            \n",
    "        if (onlineres.find(\"gmd:function/gmd:CI_OnLineFunctionCode\",namespaces=NSMAP) is not None):\n",
    "            thefunctioncode=onlineres.find(\"gmd:function/gmd:CI_OnLineFunctionCode\",namespaces=NSMAP).get(\"codeListValue\")\n",
    "        else:\n",
    "            thefunctioncode=''\n",
    "            \n",
    "        if (onlineres.find(\"gmd:function/gmd:CI_OnLineFunctionCode\",namespaces=NSMAP) is not None):    \n",
    "            thefunctiontext=onlineres.find(\"gmd:function/gmd:CI_OnLineFunctionCode\",namespaces=NSMAP).text\n",
    "        else:\n",
    "            thefunctiontext=''\n",
    "            \n",
    "        print('\\n Distribution: name-%s;\\n  url- %s; \\n  description--%s; \\n   protocol-%s, app profile- %s; function- %s; %s' %\n",
    "              (thename,theURL,thedescription,theprotocol,theappprofile,thefunctioncode,thefunctiontext))\n",
    "        \n",
    "        #print('wfs test: %s' % (theURL.lower().find('service=wfs')>-1))\n",
    "        #print('base url %s'% (theURL.split('?')[0]))\n",
    "        \n",
    "        # series of tests to determine what application profiles are applicable for this online resource\n",
    "        #check for OGC WFS Web feature service\n",
    "        if (theprotocol.lower().find('wfs')>-1 or\n",
    "           theURL.lower().find('service=wfs')>-1):       \n",
    "            # append to dispatchlist\n",
    "            # wfs disptacher gets the base URL for the service\n",
    "            #check if service is responding\n",
    "            tryurl=theURL.split('?')[0] + '?service=wfs&request=getCapabilities'\n",
    "            if testurl(tryurl):\n",
    "                dispatchlist.append({\"profile\":\"wfsclient\",\"url\":theURL.split('?')[0],\n",
    "                                    \"label\":thename})\n",
    "            \n",
    "        #check for OGC WMS; open in QGIS, ArcGIS, or OpenLayers web client\n",
    "        if (theprotocol.lower().find('wms')>-1 or\n",
    "           (theURL.lower().find('service=wms')>-1 and theURL.lower().find('request=kml')==-1) ):\n",
    "            #kml test is because of GeoServer handling of kml response for wms\n",
    "            # append to dispatchlist\n",
    "            # wms disptacher gets the base URL for the service\n",
    "            tryurl=theURL.split('?')[0] + '?service=wms&request=getCapabilities'\n",
    "            if testurl(tryurl):\n",
    "                dispatchlist.append({\"profile\":\"wmsclient\",\"url\":theURL.split('?')[0],\n",
    "                                    \"label\":thename})\n",
    "            \n",
    "        # KML client-- open in GoogleEarth or ?OpenLayers? kml client\n",
    "        if (thedescription.lower().find('kml download')>-1 or\n",
    "           (theURL.lower().find('request=kml')>-1 and theURL.lower().find('mode=download')>-1) or\n",
    "           theURL.lower().find('.kml')>-1 or theURL.lower().find('.kmz')>-1):\n",
    "            #kml test for GeoServer handling of kml response for wms\n",
    "            # append to dispatchlist\n",
    "            # wfs disptacher gets the base URL for the service\n",
    "            if testurl(theURL):\n",
    "                dispatchlist.append({\"profile\":\"kmlclient\",\"url\":theURL,\n",
    "                                    \"label\":thename})\n",
    "            \n",
    "        # other http URL-- check if the URL works\n",
    "        if ((theURL.lower().find('.html')>-1 ) \n",
    "            or (theURL.lower().find('.pdf')>-1 )\n",
    "            or (theURL.lower().find('.htm')>-1 )\n",
    "            or  (theprotocol.lower().find('http')>-1)):\n",
    "            #kml test for GeoServer handling of kml response for wms\n",
    "            # append to dispatchlist\n",
    "            # wfs disptacher gets the base URL for the service\n",
    "            if testurl(theURL):\n",
    "                r = requests.get(theURL)\n",
    "                print('content type %s' % r.headers['Content-Type'])\n",
    "                if ((r.headers['Content-Type'].find('html')>-1) \n",
    "                    or (r.headers['Content-Type'].find('application/pdf')>-1)):\n",
    "                    dispatchlist.append({\"profile\":\"webbrowser\",\"url\":theURL,\n",
    "                                       \"label\":thename })\n",
    "                    \n",
    "        # nwis rdb data\n",
    "        if ((theURL.lower().find('/nwis/qwdata')>-1 )\n",
    "            or (theURL.lower().find('/nwis/gwlevels')>-1 )\n",
    "            or (theURL.lower().find('/nwis/uv')>-1 )\n",
    "            or (theURL.lower().find('/nwis/peak')>-1 )\n",
    "            or (theURL.lower().find('/nwis/measurements')>-1)):\n",
    "            # NWIS time series in rdb text file format\n",
    "            if testurl(theURL):\n",
    "                dispatchlist.append({\"profile\":\"nwis_rdb\",\"url\":theURL,\n",
    "                                       \"label\":thename })\n",
    "                \n",
    "        # national data bouy center ndbc rdb data\n",
    "        if (theURL.lower().find('www.ndbc.noaa.gov/view_text_file.php')>-1 ):\n",
    "            #\n",
    "            if testurl(theURL):\n",
    "                dispatchlist.append({\"profile\":\"ndbc_txt\",\"url\":theURL,\n",
    "                                       \"label\":thename })\n",
    "            \n",
    "print('Dispatch List: %s' % dispatchlist)"
   ]
  },
  {
   "cell_type": "markdown",
   "metadata": {},
   "source": [
    "Call the dispatcher with the dispatchlist\n",
    "The dispatcher will need to access registry with mapping from application profile values to endpoints that will 'open' the url associated with that profile in the dispatch option.\n",
    "\n",
    "In the long run, the dispatcher should be a separate component accessed via URL; start with it hard wired here.\n",
    "\n"
   ]
  },
  {
   "cell_type": "code",
   "execution_count": 15,
   "metadata": {},
   "outputs": [],
   "source": [
    "#Simple dispatcher with drop down picker\n",
    "#Create dropdown Buttons and generate table \n",
    "data_dropdown_options = {} \n",
    "\n",
    "for option in dispatchlist:\n",
    "    if (option['profile']=='wfsclient'):\n",
    "        #offer links for apps that consume generic WFS\n",
    "        #print('got wfs')\n",
    "        wfsurl=base_url+ 'WFSprocessor.ipynb?endpoint='+option['url']\n",
    "        label='Inspect dataset via OGC Web Feature Service' \n",
    "        data_dropdown_options[label]=wfsurl\n",
    "    if (option['profile']=='webbrowser'):\n",
    "        #offer links for resources intended for viewing in a standard web browser\n",
    "        label = 'Display ' + option['label'] + ' in browser'\n",
    "        data_dropdown_options[label] = option['url']\n",
    "    if (option['profile']=='nwis_rdb'):\n",
    "        #offer links for apps that consume NWIS tab delimited text that conforms to the NWIS rdb profile\n",
    "        nwisgdburl=base_url+ 'NWIS-explore2.ipynb?dataurl=' + option['url']\n",
    "        label = 'Inspect NWIS time series ' + option['label']\n",
    "        data_dropdown_options[label] = nwisgdburl\n",
    "    if (option['profile']=='ndbc_txt'):\n",
    "        #offer links for apps that consume National Data Buoy Center tab delimited text files\n",
    "        label = 'Inspect Bouy data time series ' + option['label']\n",
    "        data_dropdown_options[label] = base_url + 'ndbc-explore_stmet.ipynb?dataurl=' + option['url']\n",
    "\n"
   ]
  },
  {
   "cell_type": "code",
   "execution_count": 16,
   "metadata": {
    "collapsed": true
   },
   "outputs": [],
   "source": [
    "# one way to display pick list drop box\n",
    "#print (data_dropdown_options)\n",
    "\n",
    "#Create widget with dropdown options from list created above \n",
    "#def f(notebooks_menu): return notebooks_menu\n",
    "\n",
    "#out = interact(f, notebooks_menu=nb_menu); \n",
    "#out = interact(f, notebooks_menu=data_dropdown_options.keys())\n",
    "\n",
    "#chosen_url = data_dropdown_options[out.widget.result]"
   ]
  },
  {
   "cell_type": "code",
   "execution_count": 17,
   "metadata": {},
   "outputs": [],
   "source": [
    "def on_buttoncomment_clicked(b):\n",
    "    pass #this will allow user to comment on what they found by following link\n",
    "\n",
    "style = {'description_width': 'initial'}\n",
    "\n",
    "buttoncomment = widgets.Button(description=\"Feedback\")\n",
    "buttoncomment.on_click(on_buttoncomment_clicked)\n"
   ]
  },
  {
   "cell_type": "code",
   "execution_count": 18,
   "metadata": {
    "collapsed": true
   },
   "outputs": [],
   "source": [
    "#Describe what happens when the button changes its value\n",
    "def on_change_url(change):\n",
    "    global xaxisfield\n",
    "    if change['type'] == 'change' and change['name'] == 'value':\n",
    "        #print('change: ' + str(change['new']))\n",
    "        result=change['new']\n",
    "        \n",
    "        chosen_url = data_dropdown_options[result]\n",
    "        clear_output()\n",
    "        display(pickurl)\n",
    "        display(buttoncomment)\n",
    "        print('To ' + result)\n",
    "        print('Please click this URL: %s' % chosen_url)\n",
    "    return\n"
   ]
  },
  {
   "cell_type": "code",
   "execution_count": 19,
   "metadata": {},
   "outputs": [
    {
     "data": {
      "application/vnd.jupyter.widget-view+json": {
       "model_id": "2f81607799504a7fb8e3292feed8b830",
       "version_major": 2,
       "version_minor": 0
      },
      "text/plain": [
       "Dropdown(description='Pick endpoint to explore data:', index=1, layout=Layout(display='flex', flex_flow='row',…"
      ]
     },
     "metadata": {},
     "output_type": "display_data"
    },
    {
     "data": {
      "application/vnd.jupyter.widget-view+json": {
       "model_id": "f8a10973828c4524a7f379be90ab2293",
       "version_major": 2,
       "version_minor": 0
      },
      "text/plain": [
       "Button(description='Feedback', style=ButtonStyle())"
      ]
     },
     "metadata": {},
     "output_type": "display_data"
    },
    {
     "name": "stdout",
     "output_type": "stream",
     "text": [
      "To Inspect NWIS time series \n",
      "Please click this URL: http://localhost:8889/notebooks/DispatchTesting/NWIS-explore2.ipynb?dataurl=https://nwis.waterdata.usgs.gov/usa/nwis/qwdata/?site_no=07374000&agency_cd=USGS&inventory_output=0&rdb_inventory_output=file&TZoutput=0&pm_cd_compare=Greater%20than&radio_parm_cds=all_parm_cds&qw_attributes=0&format=rdb&qw_sample_wide=wide&rdb_qw_attributes=0&date_format=YYYY-MM-DD&rdb_compression=value&submitted_form=brief_list\n"
     ]
    }
   ],
   "source": [
    "#print(data_dropdown_options.keys())\n",
    "\n",
    "#experimenting with widget formatting....\n",
    "\n",
    "form_item_layout = widgets.Layout(\n",
    "    display='flex',\n",
    "    flex_flow='row',\n",
    "    flex_grow=2,\n",
    "    justify_content='space-between'\n",
    ")\n",
    "\n",
    "init_val='select action'  #this will be displayed in picklist when it opens\n",
    "picklist=[init_val]\n",
    "for item in data_dropdown_options.keys():\n",
    "    picklist.append(item)  #append the keys from the endpoint options\n",
    "\n",
    "pickurl = widgets.Dropdown(\n",
    "    options=picklist,\n",
    "    description='Pick endpoint to explore data:',\n",
    "    disabled=False,\n",
    "    style = style,\n",
    "    layout=form_item_layout,\n",
    "    value=init_val\n",
    ")\n",
    "\n",
    "\n",
    "if (len(picklist)==1):\n",
    "    print('There are no recognized application profiles for this resource.')\n",
    "else: \n",
    "    pickurl.observe(on_change_url)\n",
    "    display(pickurl)"
   ]
  },
  {
   "cell_type": "code",
   "execution_count": null,
   "metadata": {
    "collapsed": true
   },
   "outputs": [],
   "source": []
  },
  {
   "cell_type": "code",
   "execution_count": null,
   "metadata": {
    "collapsed": true
   },
   "outputs": [],
   "source": []
  }
 ],
 "metadata": {
  "kernelspec": {
   "display_name": "Python36-anaconda",
   "language": "python",
   "name": "python3"
  },
  "language_info": {
   "codemirror_mode": {
    "name": "ipython",
    "version": 3
   },
   "file_extension": ".py",
   "mimetype": "text/x-python",
   "name": "python",
   "nbconvert_exporter": "python",
   "pygments_lexer": "ipython3",
   "version": "3.6.5"
  },
  "toc": {
   "base_numbering": 1,
   "nav_menu": {},
   "number_sections": true,
   "sideBar": true,
   "skip_h1_title": false,
   "title_cell": "Table of Contents",
   "title_sidebar": "Contents",
   "toc_cell": false,
   "toc_position": {},
   "toc_section_display": true,
   "toc_window_display": false
  }
 },
 "nbformat": 4,
 "nbformat_minor": 2
}
